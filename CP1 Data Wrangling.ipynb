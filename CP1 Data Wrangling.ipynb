{
 "cells": [
  {
   "cell_type": "markdown",
   "metadata": {},
   "source": [
    "# CP1: Data Wrangling"
   ]
  },
  {
   "cell_type": "markdown",
   "metadata": {},
   "source": [
    "Include answers to these questions in your submission:\n",
    "\n",
    "1. What kind of cleaning steps did you perform?\n",
    "\n",
    "2. How did you deal with missing values, if any?\n",
    "\n",
    "3. Were there outliers, and how did you handle them?"
   ]
  },
  {
   "cell_type": "markdown",
   "metadata": {},
   "source": [
    "1. Steps I took to clean my data involved deleting irrelevant features, converting dates to datetime objects, and writing functions to clean up urls and hashtags. While I don't necessarily anticipate needing clean hashtags in the future, clean sources and urls could become useful if I were to expand my source list from Adam Schefter to local beat writers for identication purposes. * Since this is my second attempt at downloading as many Schefter tweets as possible, I still need to go through and manually label each tweet. \n",
    "\n",
    "2. There aren't any missing values.\n",
    "\n",
    "3. I'm not sure it's possible for an outlier to exist in my particular dataset."
   ]
  },
  {
   "cell_type": "code",
   "execution_count": 1,
   "metadata": {},
   "outputs": [],
   "source": [
    "# import requirements\n",
    "\n",
    "import csv\n",
    "from datetime import datetime\n",
    "import os\n",
    "import re\n",
    "import requests\n",
    "import twitter\n",
    "import lxml.html"
   ]
  },
  {
   "cell_type": "code",
   "execution_count": 3,
   "metadata": {},
   "outputs": [],
   "source": [
    "# specify credentials to access Twitter API\n",
    "\n",
    "api = twitter.Api(consumer_key='HHFP7OMrBwTxLnuCNA7bFo10E',\n",
    "                  consumer_secret='rgjhLwNMLsly7lB63obWhDLbUoi5rte9HSWrXQEIocX7ftJqOh',\n",
    "                  access_token_key='2859784876-xEksUR0FQ6PYzgHzt86L6CVmJn2S88dgvi8EM8g',\n",
    "                  access_token_secret='2ZTMVXOiyeBpKvdRYkm3eIFIJap915OS5v6ZfihQjPf37')"
   ]
  },
  {
   "cell_type": "code",
   "execution_count": 4,
   "metadata": {},
   "outputs": [],
   "source": [
    "# specify Twitter username to be scraped\n",
    "\n",
    "screen_name = 'AdamSchefter'"
   ]
  },
  {
   "cell_type": "code",
   "execution_count": 5,
   "metadata": {},
   "outputs": [],
   "source": [
    "# call the Twitter API\n",
    "\n",
    "first_200 = api.GetUserTimeline(screen_name=screen_name, count=200)"
   ]
  },
  {
   "cell_type": "code",
   "execution_count": 6,
   "metadata": {},
   "outputs": [
    {
     "name": "stdout",
     "output_type": "stream",
     "text": [
      "There are 200 tweets in our dataset, which has the type <class 'list'>.\n",
      "\n",
      "Here's a sample of what the data from one tweet looks like:\n",
      "{\"created_at\": \"Tue Apr 02 13:05:51 +0000 2019\", \"favorite_count\": 915, \"hashtags\": [], \"id\": 1113065005405102080, \"id_str\": \"1113065005405102080\", \"lang\": \"en\", \"quoted_status\": {\"created_at\": \"Tue Apr 02 13:01:12 +0000 2019\", \"favorite_count\": 1426, \"hashtags\": [], \"id\": 1113063833818415104, \"id_str\": \"1113063833818415104\", \"lang\": \"en\", \"retweet_count\": 386, \"source\": \"<a href=\\\"https://about.twitter.com/products/tweetdeck\\\" rel=\\\"nofollow\\\">TweetDeck</a>\", \"text\": \"Sources: the Patriots and DE Michael Bennett have agreed to a reworked two-year deal with a base value of $16.75M,\\u2026 https://t.co/XakOELAwKc\", \"truncated\": true, \"urls\": [{\"expanded_url\": \"https://twitter.com/i/web/status/1113063833818415104\", \"url\": \"https://t.co/XakOELAwKc\"}], \"user\": {\"created_at\": \"Tue Jul 21 20:57:56 +0000 2009\", \"description\": \"NFL Insider for ESPN. Co-host of the Fantasy Focus Football podcast. Graduate of Belmont Hill and Wesleyan.\", \"favourites_count\": 9311, \"followers_count\": 370063, \"friends_count\": 1111, \"geo_enabled\": true, \"id\": 58919137, \"id_str\": \"58919137\", \"lang\": \"en\", \"listed_count\": 6194, \"location\": \"Boston, MA\", \"name\": \"Field Yates\", \"profile_background_color\": \"C0DEED\", \"profile_background_image_url\": \"http://abs.twimg.com/images/themes/theme1/bg.png\", \"profile_background_image_url_https\": \"https://abs.twimg.com/images/themes/theme1/bg.png\", \"profile_background_tile\": true, \"profile_banner_url\": \"https://pbs.twimg.com/profile_banners/58919137/1540569058\", \"profile_image_url\": \"http://pbs.twimg.com/profile_images/1047090292883644417/mcBeesbb_normal.jpg\", \"profile_image_url_https\": \"https://pbs.twimg.com/profile_images/1047090292883644417/mcBeesbb_normal.jpg\", \"profile_link_color\": \"0084B4\", \"profile_sidebar_border_color\": \"C0DEED\", \"profile_sidebar_fill_color\": \"DDEEF6\", \"profile_text_color\": \"333333\", \"profile_use_background_image\": true, \"screen_name\": \"FieldYates\", \"statuses_count\": 42690, \"url\": \"https://t.co/6GT8n9YwUa\", \"verified\": true}, \"user_mentions\": []}, \"quoted_status_id\": 1113063833818415104, \"quoted_status_id_str\": \"1113063833818415104\", \"retweet_count\": 130, \"source\": \"<a href=\\\"http://twitter.com/download/iphone\\\" rel=\\\"nofollow\\\">Twitter for iPhone</a>\", \"text\": \"A rarity for Patriots to add new money and guaranteed money to existing deal. https://t.co/dzI57vnG66\", \"urls\": [{\"expanded_url\": \"https://twitter.com/fieldyates/status/1113063833818415104\", \"url\": \"https://t.co/dzI57vnG66\"}], \"user\": {\"created_at\": \"Fri Jun 26 22:55:28 +0000 2009\", \"description\": \"Father, Husband, Son, Brother, University of Michigan graduate, masters degree from Medill, NFL Insider for ESPN. https://t.co/oz43ix5jZU\", \"favourites_count\": 405, \"followers_count\": 7338036, \"friends_count\": 2925, \"geo_enabled\": true, \"id\": 51263592, \"id_str\": \"51263592\", \"lang\": \"en\", \"listed_count\": 48740, \"location\": \"New York\", \"name\": \"Adam Schefter\", \"profile_background_color\": \"2573B8\", \"profile_background_image_url\": \"http://abs.twimg.com/images/themes/theme4/bg.gif\", \"profile_background_image_url_https\": \"https://abs.twimg.com/images/themes/theme4/bg.gif\", \"profile_banner_url\": \"https://pbs.twimg.com/profile_banners/51263592/1466784770\", \"profile_image_url\": \"http://pbs.twimg.com/profile_images/793924061843914752/ycm8ibEE_normal.jpg\", \"profile_image_url_https\": \"https://pbs.twimg.com/profile_images/793924061843914752/ycm8ibEE_normal.jpg\", \"profile_link_color\": \"3B94D9\", \"profile_sidebar_border_color\": \"FFFFFF\", \"profile_sidebar_fill_color\": \"95E8EC\", \"profile_text_color\": \"16101F\", \"profile_use_background_image\": true, \"screen_name\": \"AdamSchefter\", \"statuses_count\": 44235, \"url\": \"https://t.co/goIDs6XAeU\", \"verified\": true}, \"user_mentions\": []}\n",
      "\n",
      "Each tweet is stored in a <class 'twitter.models.Status'> data structure.\n"
     ]
    }
   ],
   "source": [
    "# Sample breakdown\n",
    "\n",
    "print(\"There are %d tweets in our dataset, which has the type %s.\" % (len(first_200), type(first_200)))\n",
    "print()\n",
    "print(\"Here's a sample of what the data from one tweet looks like:\")\n",
    "print(first_200[0])\n",
    "print()\n",
    "print(\"Each tweet is stored in a %s data structure.\" % type(first_200[0]))"
   ]
  },
  {
   "cell_type": "code",
   "execution_count": 7,
   "metadata": {},
   "outputs": [],
   "source": [
    "def get_tweets(first_200, screen_name, last_id):\n",
    "    all_tweets = []\n",
    "    all_tweets.extend(first_200)\n",
    "    for i in range(900):\n",
    "        new = api.GetUserTimeline(screen_name=screen_name, max_id=last_id-1)\n",
    "        if len(new) > 0:\n",
    "            all_tweets.extend(new)\n",
    "            last_id = new[-1].id\n",
    "        else:\n",
    "            break\n",
    "    \n",
    "    return all_tweets"
   ]
  },
  {
   "cell_type": "code",
   "execution_count": 8,
   "metadata": {},
   "outputs": [],
   "source": [
    "all_tweets = get_tweets(first_200, screen_name, first_200[-1].id)"
   ]
  },
  {
   "cell_type": "code",
   "execution_count": 9,
   "metadata": {},
   "outputs": [
    {
     "name": "stdout",
     "output_type": "stream",
     "text": [
      "There are 3222 tweets stored in a list as the all_tweets variable.\n",
      "The most recent tweet in our collection was sent Tue Apr 02 13:05:51 +0000 2019 and the oldest tweet was sent Tue Aug 07 17:39:19 +0000 2018.\n"
     ]
    }
   ],
   "source": [
    "# check to see how many tweets we actually have\n",
    "\n",
    "print(\"There are %d tweets stored in a list as the all_tweets variable.\" % len(all_tweets))\n",
    "print(\"The most recent tweet in our collection was sent %s and the oldest tweet was sent %s.\" % (\n",
    "    all_tweets[0].created_at, \n",
    "    all_tweets[-1].created_at)\n",
    "     )"
   ]
  },
  {
   "cell_type": "code",
   "execution_count": 10,
   "metadata": {},
   "outputs": [
    {
     "name": "stdout",
     "output_type": "stream",
     "text": [
      "{\"created_at\": \"Tue Apr 02 13:05:51 +0000 2019\", \"favorite_count\": 915, \"hashtags\": [], \"id\": 1113065005405102080, \"id_str\": \"1113065005405102080\", \"lang\": \"en\", \"quoted_status\": {\"created_at\": \"Tue Apr 02 13:01:12 +0000 2019\", \"favorite_count\": 1426, \"hashtags\": [], \"id\": 1113063833818415104, \"id_str\": \"1113063833818415104\", \"lang\": \"en\", \"retweet_count\": 386, \"source\": \"<a href=\\\"https://about.twitter.com/products/tweetdeck\\\" rel=\\\"nofollow\\\">TweetDeck</a>\", \"text\": \"Sources: the Patriots and DE Michael Bennett have agreed to a reworked two-year deal with a base value of $16.75M,\\u2026 https://t.co/XakOELAwKc\", \"truncated\": true, \"urls\": [{\"expanded_url\": \"https://twitter.com/i/web/status/1113063833818415104\", \"url\": \"https://t.co/XakOELAwKc\"}], \"user\": {\"created_at\": \"Tue Jul 21 20:57:56 +0000 2009\", \"description\": \"NFL Insider for ESPN. Co-host of the Fantasy Focus Football podcast. Graduate of Belmont Hill and Wesleyan.\", \"favourites_count\": 9311, \"followers_count\": 370063, \"friends_count\": 1111, \"geo_enabled\": true, \"id\": 58919137, \"id_str\": \"58919137\", \"lang\": \"en\", \"listed_count\": 6194, \"location\": \"Boston, MA\", \"name\": \"Field Yates\", \"profile_background_color\": \"C0DEED\", \"profile_background_image_url\": \"http://abs.twimg.com/images/themes/theme1/bg.png\", \"profile_background_image_url_https\": \"https://abs.twimg.com/images/themes/theme1/bg.png\", \"profile_background_tile\": true, \"profile_banner_url\": \"https://pbs.twimg.com/profile_banners/58919137/1540569058\", \"profile_image_url\": \"http://pbs.twimg.com/profile_images/1047090292883644417/mcBeesbb_normal.jpg\", \"profile_image_url_https\": \"https://pbs.twimg.com/profile_images/1047090292883644417/mcBeesbb_normal.jpg\", \"profile_link_color\": \"0084B4\", \"profile_sidebar_border_color\": \"C0DEED\", \"profile_sidebar_fill_color\": \"DDEEF6\", \"profile_text_color\": \"333333\", \"profile_use_background_image\": true, \"screen_name\": \"FieldYates\", \"statuses_count\": 42690, \"url\": \"https://t.co/6GT8n9YwUa\", \"verified\": true}, \"user_mentions\": []}, \"quoted_status_id\": 1113063833818415104, \"quoted_status_id_str\": \"1113063833818415104\", \"retweet_count\": 130, \"source\": \"<a href=\\\"http://twitter.com/download/iphone\\\" rel=\\\"nofollow\\\">Twitter for iPhone</a>\", \"text\": \"A rarity for Patriots to add new money and guaranteed money to existing deal. https://t.co/dzI57vnG66\", \"urls\": [{\"expanded_url\": \"https://twitter.com/fieldyates/status/1113063833818415104\", \"url\": \"https://t.co/dzI57vnG66\"}], \"user\": {\"created_at\": \"Fri Jun 26 22:55:28 +0000 2009\", \"description\": \"Father, Husband, Son, Brother, University of Michigan graduate, masters degree from Medill, NFL Insider for ESPN. https://t.co/oz43ix5jZU\", \"favourites_count\": 405, \"followers_count\": 7338036, \"friends_count\": 2925, \"geo_enabled\": true, \"id\": 51263592, \"id_str\": \"51263592\", \"lang\": \"en\", \"listed_count\": 48740, \"location\": \"New York\", \"name\": \"Adam Schefter\", \"profile_background_color\": \"2573B8\", \"profile_background_image_url\": \"http://abs.twimg.com/images/themes/theme4/bg.gif\", \"profile_background_image_url_https\": \"https://abs.twimg.com/images/themes/theme4/bg.gif\", \"profile_banner_url\": \"https://pbs.twimg.com/profile_banners/51263592/1466784770\", \"profile_image_url\": \"http://pbs.twimg.com/profile_images/793924061843914752/ycm8ibEE_normal.jpg\", \"profile_image_url_https\": \"https://pbs.twimg.com/profile_images/793924061843914752/ycm8ibEE_normal.jpg\", \"profile_link_color\": \"3B94D9\", \"profile_sidebar_border_color\": \"FFFFFF\", \"profile_sidebar_fill_color\": \"95E8EC\", \"profile_text_color\": \"16101F\", \"profile_use_background_image\": true, \"screen_name\": \"AdamSchefter\", \"statuses_count\": 44235, \"url\": \"https://t.co/goIDs6XAeU\", \"verified\": true}, \"user_mentions\": []}\n"
     ]
    }
   ],
   "source": [
    "# take a look at an individual observation\n",
    "\n",
    "print(all_tweets[0])"
   ]
  },
  {
   "cell_type": "code",
   "execution_count": 11,
   "metadata": {},
   "outputs": [
    {
     "name": "stdout",
     "output_type": "stream",
     "text": [
      "How the data appear:\n",
      "The created_at attribute: Tue Apr 02 11:35:48 +0000 2019\n",
      "The hashtags attribute: []\n",
      "The urls attribute: [URL(URL=https://t.co/yH6nVvhfy5, ExpandedURL=https://twitter.com/i/web/status/1113042341038886913)]\n",
      "The source attribute: <a href=\"http://twitter.com/download/iphone\" rel=\"nofollow\">Twitter for iPhone</a>\n"
     ]
    }
   ],
   "source": [
    "# features I'm looking closer at\n",
    "\n",
    "print(\"How the data appear:\")\n",
    "print(\"The created_at attribute:\", all_tweets[1].created_at)\n",
    "print(\"The hashtags attribute:\", all_tweets[1].hashtags)\n",
    "print(\"The urls attribute:\", all_tweets[1].urls)\n",
    "print(\"The source attribute:\", all_tweets[1].source)"
   ]
  },
  {
   "cell_type": "code",
   "execution_count": 12,
   "metadata": {},
   "outputs": [],
   "source": [
    "# function to convert from string to datetime\n",
    "\n",
    "def string_to_datetime(date_str):\n",
    "    \"\"\"\n",
    "    Turns a string including date and time like this - Sun Jul 01 21:06:07 +0000 2018 - to a Python datetime object\n",
    "    like this - datetime.datetime(2018, 7, 1, 21, 6, 7, tzinfo=datetime.timezone.utc)\n",
    "    \"\"\"\n",
    "    return datetime.strptime(date_str, '%a %b %d %H:%M:%S %z %Y')"
   ]
  },
  {
   "cell_type": "code",
   "execution_count": 13,
   "metadata": {},
   "outputs": [],
   "source": [
    "# functions to clean up urls and sources\n",
    "# which may be useful if I need to expand beyond schefter\n",
    "\n",
    "'''\n",
    "clean_urls turns data with any number of expanded urls like this - \n",
    "    [URL(URL=https://t.co/sYCFHKxzBf, ExpandedURL=https://youtu.be/34bFgA3H3hQ)]- to a list like this - \n",
    "    [\"https://youtu.be/34bFgA3H3hQ\"]\n",
    "    \n",
    "clean_source turns data including the source and some html like this - \n",
    "    <a href=\"https://www.sprinklr.com\" rel=\"nofollow\">Sprinklr</a> - to a list like this -\n",
    "    ['Sprinklr']\n",
    "    \n",
    "clean_hashtags turns data with any number of hashtags like this - [Hashtag(Text='STEMonStation')] - to a list like this -\n",
    "    ['STEMonStation']\n",
    "'''\n",
    "\n",
    "\n",
    "def clean_urls(urls):\n",
    "    cleaned = []\n",
    "    if len(urls) >= 1:\n",
    "        for i in range(len(urls)):\n",
    "            cleaned.append(urls[i].expanded_url)\n",
    "    return(cleaned)\n",
    "        \n",
    "\n",
    "def clean_source(source):\n",
    "    raw = lxml.html.document_fromstring(source)\n",
    "    return raw.cssselect('body')[0].text_content()\n",
    "\n",
    "def clean_hashtags(hashtags):\n",
    "    cleaned = []\n",
    "    if len(hashtags) >= 1:\n",
    "        for i in range(len(hashtags)):\n",
    "            cleaned.append(hashtags[i].text)        \n",
    "    return cleaned"
   ]
  },
  {
   "cell_type": "code",
   "execution_count": 14,
   "metadata": {},
   "outputs": [],
   "source": [
    "def write_to_csv(tweets, filename):\n",
    "    # the headers are the fields that we identified to keep\n",
    "    headers = ['id', 'full_text', 'hashtags', 'urls', 'created_at', 'favorite_count', 'retweet_count', 'source']\n",
    "    \n",
    "    # here we create the file and write the header row with the headers list\n",
    "    # note that the 'filename' argument will be the name of the csv file\n",
    "    with open(filename + '.csv', 'w', newline='') as csvfile:\n",
    "        writer = csv.writer(csvfile, delimiter=',')\n",
    "        writer.writerow(headers)\n",
    "        \n",
    "        # in this loop, we write a new row for each tweet object, with the data taken from the tweet object in \n",
    "        # the order we listed the headers\n",
    "        # note where we call the helper functions from step 4 on hashtags, urls, and source\n",
    "        for item in tweets:\n",
    "            writer.writerow([item.id, \n",
    "                             item.full_text, \n",
    "                             clean_hashtags(item.hashtags), \n",
    "                             clean_urls(item.urls), \n",
    "                             item.created_at, \n",
    "                             item.favorite_count, \n",
    "                             item.retweet_count, \n",
    "                             clean_source(item.source)])\n",
    "    csvfile.close()"
   ]
  },
  {
   "cell_type": "code",
   "execution_count": null,
   "metadata": {},
   "outputs": [],
   "source": [
    "# merge old data with new and add labels\n",
    "\n",
    "# check for all missing values\n",
    "# check for types of columns"
   ]
  },
  {
   "cell_type": "code",
   "execution_count": 16,
   "metadata": {},
   "outputs": [],
   "source": [
    "# now we call the function, passing in the all_tweets list\n",
    "# here the filename will be the screen_name variable defined in step 2 with \"_tweets\" after it (e.g. NASA_tweets.csv),\n",
    "# but you can change it to whatever you want\n",
    "write_to_csv(all_tweets, screen_name + '_tweets')"
   ]
  },
  {
   "cell_type": "markdown",
   "metadata": {},
   "source": [
    "# Updating dataset"
   ]
  },
  {
   "cell_type": "markdown",
   "metadata": {},
   "source": [
    "The tweepy package has a 3200 tweet limit for scraping a particular user's timeline. \n",
    "\n",
    "The first attempt at collecting Schefter's tweets gathered 3200 tweets from May 21, 2018 to February 17, 2019. A second attempt will merge his tweets through April 8, bringing the total dataset to 3848 items."
   ]
  },
  {
   "cell_type": "code",
   "execution_count": null,
   "metadata": {},
   "outputs": [],
   "source": [
    "import pandas as pd\n",
    "initial_df = pd.read_csv(\"schefter_tweets.csv\")\n",
    "new_tweets = pd.read_csv(\"schefter_tweets2.csv\")\n",
    "final_df = new_tweets.append(initial_df, sort = False)\n",
    "\n",
    "new_df.to_csv('all_tweets.csv', index = False)"
   ]
  },
  {
   "cell_type": "code",
   "execution_count": 4,
   "metadata": {},
   "outputs": [],
   "source": [
    "tweets = pd.read_csv('all_tweets.csv')"
   ]
  },
  {
   "cell_type": "code",
   "execution_count": 5,
   "metadata": {},
   "outputs": [
    {
     "data": {
      "text/html": [
       "<div>\n",
       "<style>\n",
       "    .dataframe thead tr:only-child th {\n",
       "        text-align: right;\n",
       "    }\n",
       "\n",
       "    .dataframe thead th {\n",
       "        text-align: left;\n",
       "    }\n",
       "\n",
       "    .dataframe tbody tr th {\n",
       "        vertical-align: top;\n",
       "    }\n",
       "</style>\n",
       "<table border=\"1\" class=\"dataframe\">\n",
       "  <thead>\n",
       "    <tr style=\"text-align: right;\">\n",
       "      <th></th>\n",
       "      <th>tweet_ID</th>\n",
       "      <th>timestamp</th>\n",
       "      <th>priority</th>\n",
       "      <th>text</th>\n",
       "    </tr>\n",
       "  </thead>\n",
       "  <tbody>\n",
       "    <tr>\n",
       "      <th>0</th>\n",
       "      <td>1114891664961699842</td>\n",
       "      <td>2019-04-07 14:04:21</td>\n",
       "      <td>6.0</td>\n",
       "      <td>b'RT @MikeReiss: Quick-hit thoughts/notes arou...</td>\n",
       "    </tr>\n",
       "    <tr>\n",
       "      <th>1</th>\n",
       "      <td>1114890687286317056</td>\n",
       "      <td>2019-04-07 14:00:28</td>\n",
       "      <td>6.0</td>\n",
       "      <td>b'RT @JordanRaanan: A \"1 percent chance\" trade...</td>\n",
       "    </tr>\n",
       "    <tr>\n",
       "      <th>2</th>\n",
       "      <td>1114888355194507269</td>\n",
       "      <td>2019-04-07 13:51:12</td>\n",
       "      <td>6.0</td>\n",
       "      <td>b'Michigan LB Devin Bush is visiting the Giant...</td>\n",
       "    </tr>\n",
       "    <tr>\n",
       "      <th>3</th>\n",
       "      <td>1114878641115148288</td>\n",
       "      <td>2019-04-07 13:12:36</td>\n",
       "      <td>6.0</td>\n",
       "      <td>b'Texas Tech has produced one NFL MVP (Patrick...</td>\n",
       "    </tr>\n",
       "    <tr>\n",
       "      <th>4</th>\n",
       "      <td>1114718902238482432</td>\n",
       "      <td>2019-04-07 02:37:51</td>\n",
       "      <td>6.0</td>\n",
       "      <td>b'RT @MasterTes: An Auburn fan next to me pour...</td>\n",
       "    </tr>\n",
       "  </tbody>\n",
       "</table>\n",
       "</div>"
      ],
      "text/plain": [
       "              tweet_ID            timestamp  priority  \\\n",
       "0  1114891664961699842  2019-04-07 14:04:21       6.0   \n",
       "1  1114890687286317056  2019-04-07 14:00:28       6.0   \n",
       "2  1114888355194507269  2019-04-07 13:51:12       6.0   \n",
       "3  1114878641115148288  2019-04-07 13:12:36       6.0   \n",
       "4  1114718902238482432  2019-04-07 02:37:51       6.0   \n",
       "\n",
       "                                                text  \n",
       "0  b'RT @MikeReiss: Quick-hit thoughts/notes arou...  \n",
       "1  b'RT @JordanRaanan: A \"1 percent chance\" trade...  \n",
       "2  b'Michigan LB Devin Bush is visiting the Giant...  \n",
       "3  b'Texas Tech has produced one NFL MVP (Patrick...  \n",
       "4  b'RT @MasterTes: An Auburn fan next to me pour...  "
      ]
     },
     "execution_count": 5,
     "metadata": {},
     "output_type": "execute_result"
    }
   ],
   "source": [
    "tweets.head()"
   ]
  },
  {
   "cell_type": "code",
   "execution_count": 8,
   "metadata": {},
   "outputs": [
    {
     "data": {
      "text/html": [
       "<div>\n",
       "<style>\n",
       "    .dataframe thead tr:only-child th {\n",
       "        text-align: right;\n",
       "    }\n",
       "\n",
       "    .dataframe thead th {\n",
       "        text-align: left;\n",
       "    }\n",
       "\n",
       "    .dataframe tbody tr th {\n",
       "        vertical-align: top;\n",
       "    }\n",
       "</style>\n",
       "<table border=\"1\" class=\"dataframe\">\n",
       "  <thead>\n",
       "    <tr style=\"text-align: right;\">\n",
       "      <th></th>\n",
       "      <th>tweet_ID</th>\n",
       "      <th>timestamp</th>\n",
       "      <th>priority</th>\n",
       "      <th>text</th>\n",
       "    </tr>\n",
       "  </thead>\n",
       "  <tbody>\n",
       "    <tr>\n",
       "      <th>3842</th>\n",
       "      <td>998662696525590529</td>\n",
       "      <td>2018-05-21 20:31:55</td>\n",
       "      <td>5.0</td>\n",
       "      <td>b'Richie Incognito told the Bills he wants to ...</td>\n",
       "    </tr>\n",
       "    <tr>\n",
       "      <th>3843</th>\n",
       "      <td>998627111190564865</td>\n",
       "      <td>2018-05-21 18:10:31</td>\n",
       "      <td>6.0</td>\n",
       "      <td>b'Show love.... https://t.co/1c1JFTdSOF'</td>\n",
       "    </tr>\n",
       "    <tr>\n",
       "      <th>3844</th>\n",
       "      <td>998622263640580097</td>\n",
       "      <td>2018-05-21 17:51:15</td>\n",
       "      <td>6.0</td>\n",
       "      <td>b'RT @StacyRost: #Seahawks LB Bobby Wagner end...</td>\n",
       "    </tr>\n",
       "    <tr>\n",
       "      <th>3845</th>\n",
       "      <td>998618562846777345</td>\n",
       "      <td>2018-05-21 17:36:33</td>\n",
       "      <td>6.0</td>\n",
       "      <td>b'More on NFL\\xe2\\x80\\x99s decision not to dis...</td>\n",
       "    </tr>\n",
       "    <tr>\n",
       "      <th>3846</th>\n",
       "      <td>998616999868682240</td>\n",
       "      <td>2018-05-21 17:30:20</td>\n",
       "      <td>6.0</td>\n",
       "      <td>b'NFL determined that neither the Lions nor Ma...</td>\n",
       "    </tr>\n",
       "  </tbody>\n",
       "</table>\n",
       "</div>"
      ],
      "text/plain": [
       "                tweet_ID            timestamp  priority  \\\n",
       "3842  998662696525590529  2018-05-21 20:31:55       5.0   \n",
       "3843  998627111190564865  2018-05-21 18:10:31       6.0   \n",
       "3844  998622263640580097  2018-05-21 17:51:15       6.0   \n",
       "3845  998618562846777345  2018-05-21 17:36:33       6.0   \n",
       "3846  998616999868682240  2018-05-21 17:30:20       6.0   \n",
       "\n",
       "                                                   text  \n",
       "3842  b'Richie Incognito told the Bills he wants to ...  \n",
       "3843           b'Show love.... https://t.co/1c1JFTdSOF'  \n",
       "3844  b'RT @StacyRost: #Seahawks LB Bobby Wagner end...  \n",
       "3845  b'More on NFL\\xe2\\x80\\x99s decision not to dis...  \n",
       "3846  b'NFL determined that neither the Lions nor Ma...  "
      ]
     },
     "execution_count": 8,
     "metadata": {},
     "output_type": "execute_result"
    }
   ],
   "source": [
    "tweets.tail()"
   ]
  },
  {
   "cell_type": "code",
   "execution_count": null,
   "metadata": {},
   "outputs": [],
   "source": []
  }
 ],
 "metadata": {
  "kernelspec": {
   "display_name": "Python 3",
   "language": "python",
   "name": "python3"
  },
  "language_info": {
   "codemirror_mode": {
    "name": "ipython",
    "version": 3
   },
   "file_extension": ".py",
   "mimetype": "text/x-python",
   "name": "python",
   "nbconvert_exporter": "python",
   "pygments_lexer": "ipython3",
   "version": "3.6.8"
  }
 },
 "nbformat": 4,
 "nbformat_minor": 2
}
