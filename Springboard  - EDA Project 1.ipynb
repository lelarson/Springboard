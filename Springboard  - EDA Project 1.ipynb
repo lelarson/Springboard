{
 "cells": [
  {
   "cell_type": "markdown",
   "metadata": {},
   "source": [
    "# What is the True Normal Human Body Temperature? \n",
    "\n",
    "#### Background\n",
    "\n",
    "The mean normal body temperature was held to be 37$^{\\circ}$C or 98.6$^{\\circ}$F for more than 120 years since it was first conceptualized and reported by Carl Wunderlich in a famous 1868 book. But, is this value statistically correct?"
   ]
  },
  {
   "cell_type": "markdown",
   "metadata": {},
   "source": [
    "<h3>Exercises</h3>\n",
    "\n",
    "<p>In this exercise, you will analyze a dataset of human body temperatures and employ the concepts of hypothesis testing, confidence intervals, and statistical significance.</p>\n",
    "\n",
    "<p>Answer the following questions <b>in this notebook below and submit to your Github account</b>.</p> \n",
    "\n",
    "<ol>\n",
    "<li>  Is the distribution of body temperatures normal? \n",
    "    <ul>\n",
    "    <li> Although this is not a requirement for the Central Limit Theorem to hold (read the introduction on Wikipedia's page about the CLT carefully: https://en.wikipedia.org/wiki/Central_limit_theorem), it gives us some peace of mind that the population may also be normally distributed if we assume that this sample is representative of the population.\n",
    "    <li> Think about the way you're going to check for the normality of the distribution. Graphical methods are usually used first, but there are also other ways: https://en.wikipedia.org/wiki/Normality_test\n",
    "    </ul>\n",
    "<li>  Is the sample size large? Are the observations independent?\n",
    "    <ul>\n",
    "    <li> Remember that this is a condition for the Central Limit Theorem, and hence the statistical tests we are using, to apply.\n",
    "    </ul>\n",
    "<li>  Is the true population mean really 98.6 degrees F?\n",
    "    <ul>\n",
    "    <li> First, try a bootstrap hypothesis test.\n",
    "    <li> Now, let's try frequentist statistical testing. Would you use a one-sample or two-sample test? Why?\n",
    "    <li> In this situation, is it appropriate to use the $t$ or $z$ statistic? \n",
    "    <li> Now try using the other test. How is the result be different? Why?\n",
    "    </ul>\n",
    "<li>  Draw a small sample of size 10 from the data and repeat both frequentist tests. \n",
    "    <ul>\n",
    "    <li> Which one is the correct one to use? \n",
    "    <li> What do you notice? What does this tell you about the difference in application of the $t$ and $z$ statistic?\n",
    "    </ul>\n",
    "<li>  At what temperature should we consider someone's temperature to be \"abnormal\"?\n",
    "    <ul>\n",
    "    <li> As in the previous example, try calculating everything using the boostrap approach, as well as the frequentist approach.\n",
    "    <li> Start by computing the margin of error and confidence interval. When calculating the confidence interval, keep in mind that you should use the appropriate formula for one draw, and not N draws.\n",
    "    </ul>\n",
    "<li>  Is there a significant difference between males and females in normal temperature?\n",
    "    <ul>\n",
    "    <li> What testing approach did you use and why?\n",
    "    <li> Write a story with your conclusion in the context of the original problem.\n",
    "    </ul>\n",
    "</ol>\n",
    "\n",
    "You can include written notes in notebook cells using Markdown: \n",
    "   - In the control panel at the top, choose Cell > Cell Type > Markdown\n",
    "   - Markdown syntax: http://nestacms.com/docs/creating-content/markdown-cheat-sheet\n",
    "\n",
    "#### Resources\n",
    "\n",
    "+ Information and data sources: http://www.amstat.org/publications/jse/datasets/normtemp.txt, http://www.amstat.org/publications/jse/jse_data_archive.htm\n",
    "+ Markdown syntax: http://nestacms.com/docs/creating-content/markdown-cheat-sheet\n",
    "\n",
    "****"
   ]
  },
  {
   "cell_type": "markdown",
   "metadata": {},
   "source": [
    "# My answers:"
   ]
  },
  {
   "cell_type": "code",
   "execution_count": 129,
   "metadata": {},
   "outputs": [
    {
     "data": {
      "text/html": [
       "<div>\n",
       "<style>\n",
       "    .dataframe thead tr:only-child th {\n",
       "        text-align: right;\n",
       "    }\n",
       "\n",
       "    .dataframe thead th {\n",
       "        text-align: left;\n",
       "    }\n",
       "\n",
       "    .dataframe tbody tr th {\n",
       "        vertical-align: top;\n",
       "    }\n",
       "</style>\n",
       "<table border=\"1\" class=\"dataframe\">\n",
       "  <thead>\n",
       "    <tr style=\"text-align: right;\">\n",
       "      <th></th>\n",
       "      <th>temperature</th>\n",
       "      <th>gender</th>\n",
       "      <th>heart_rate</th>\n",
       "    </tr>\n",
       "  </thead>\n",
       "  <tbody>\n",
       "    <tr>\n",
       "      <th>0</th>\n",
       "      <td>99.3</td>\n",
       "      <td>F</td>\n",
       "      <td>68.0</td>\n",
       "    </tr>\n",
       "    <tr>\n",
       "      <th>1</th>\n",
       "      <td>98.4</td>\n",
       "      <td>F</td>\n",
       "      <td>81.0</td>\n",
       "    </tr>\n",
       "    <tr>\n",
       "      <th>2</th>\n",
       "      <td>97.8</td>\n",
       "      <td>M</td>\n",
       "      <td>73.0</td>\n",
       "    </tr>\n",
       "    <tr>\n",
       "      <th>3</th>\n",
       "      <td>99.2</td>\n",
       "      <td>F</td>\n",
       "      <td>66.0</td>\n",
       "    </tr>\n",
       "    <tr>\n",
       "      <th>4</th>\n",
       "      <td>98.0</td>\n",
       "      <td>F</td>\n",
       "      <td>73.0</td>\n",
       "    </tr>\n",
       "  </tbody>\n",
       "</table>\n",
       "</div>"
      ],
      "text/plain": [
       "   temperature gender  heart_rate\n",
       "0         99.3      F        68.0\n",
       "1         98.4      F        81.0\n",
       "2         97.8      M        73.0\n",
       "3         99.2      F        66.0\n",
       "4         98.0      F        73.0"
      ]
     },
     "execution_count": 129,
     "metadata": {},
     "output_type": "execute_result"
    }
   ],
   "source": [
    "import pandas as pd\n",
    "import numpy as np\n",
    "import seaborn as sns\n",
    "import matplotlib.pyplot as plt\n",
    "%matplotlib inline\n",
    "\n",
    "\n",
    "\n",
    "\n",
    "df = pd.read_csv('human_body_temperature.csv')\n",
    "\n",
    "df.head()"
   ]
  },
  {
   "cell_type": "markdown",
   "metadata": {
    "collapsed": true
   },
   "source": [
    "### Task 1: Is the distribution of body temperatures normal?"
   ]
  },
  {
   "cell_type": "markdown",
   "metadata": {},
   "source": [
    "To answer this question, let's first construct a PDF of the data and compare it to both the theoretical PDF of what we'd expect plus a box plot to help further visualize the spread and also illuminate any possible outliers."
   ]
  },
  {
   "cell_type": "code",
   "execution_count": 130,
   "metadata": {},
   "outputs": [
    {
     "data": {
      "image/png": "[encoded data removed]",
      "text/plain": [
       "<matplotlib.figure.Figure at 0x1a1bca3278>"
      ]
     },
     "metadata": {},
     "output_type": "display_data"
    }
   ],
   "source": [
    "plt.style.use('seaborn-darkgrid')\n",
    "\n",
    "# Create a figure with two plots:\n",
    "fig, (histogram, boxplot) = plt.subplots(2, sharex=True, gridspec_kw={\"height_ratios\": (.9, .1)})\n",
    "\n",
    "# Add PDF\n",
    "sns.distplot(df.temperature, ax=histogram)\n",
    "\n",
    "# Add boxplot\n",
    "sns.boxplot(df.temperature, ax=boxplot)\n",
    "\n",
    "# Add labels and title\n",
    "histogram.set(title = 'Distribution of Body Temperatures', ylabel = 'PDF', xlabel = 'Temperature ($^\\circ$F)')\n",
    "\n",
    "# Remove x-axis label for the boxplot:\n",
    "boxplot.set(xlabel='')\n",
    "\n",
    "# Display the plots:\n",
    "plt.show()"
   ]
  },
  {
   "cell_type": "markdown",
   "metadata": {},
   "source": [
    "While the box plot suggests we have a few outliers in this dataset, the PDF nonetheless appears to *roughly* fit a normal distribution. Comparing a CDF of the data with the ECDF will help us confirm this claim. To do this, we first have to define a ECDF function."
   ]
  },
  {
   "cell_type": "code",
   "execution_count": 131,
   "metadata": {},
   "outputs": [],
   "source": [
    "# as seen in DataCamp lectures:\n",
    "\n",
    "def ecdf(data):\n",
    "    \n",
    "    # Number of data points: n\n",
    "    n = len(data)\n",
    "\n",
    "    # x-data for the ECDF: x\n",
    "    x = np.sort(data)\n",
    "\n",
    "    # y-data for the ECDF: y\n",
    "    y = np.arange(1, n+1) / n\n",
    "\n",
    "    return x, y"
   ]
  },
  {
   "cell_type": "code",
   "execution_count": 132,
   "metadata": {},
   "outputs": [
    {
     "data": {
      "image/png": "[encoded data removed]",
      "text/plain": [
       "<matplotlib.figure.Figure at 0x1a1cc4b9e8>"
      ]
     },
     "metadata": {},
     "output_type": "display_data"
    }
   ],
   "source": [
    "np.random.seed(1)\n",
    "\n",
    "samples = np.random.normal(np.mean(df.temperature), size=10000)\n",
    "x, y = ecdf(df.temperature)\n",
    "x_theor, y_theor = ecdf(samples)\n",
    "_ = plt.plot(x_theor, y_theor)\n",
    "_ = plt.plot(x, y, marker='.', linestyle='none')\n",
    "_ = plt.title('Cumulative Distribution of Body Temperatures')\n",
    "_ = plt.xlabel('Temperature ($^\\circ$F)')\n",
    "plt.show()"
   ]
  },
  {
   "cell_type": "markdown",
   "metadata": {},
   "source": [
    "Like the PDF, this ECDF appears to *roughly* fit what we'd expect, though the variation from the expected CDF shows we may not be drawing from a perfectly normal distribution."
   ]
  },
  {
   "cell_type": "markdown",
   "metadata": {},
   "source": [
    "### Task 2: Is the sample size large enough? Are the observations independent of each other?"
   ]
  },
  {
   "cell_type": "code",
   "execution_count": 133,
   "metadata": {},
   "outputs": [
    {
     "name": "stdout",
     "output_type": "stream",
     "text": [
      "Sample size = 130\n"
     ]
    }
   ],
   "source": [
    "n = len(df)\n",
    "print('Sample size =', n)"
   ]
  },
  {
   "cell_type": "markdown",
   "metadata": {},
   "source": [
    "With 130 or (n > 30) observations, we have a large enough sample size for the purposes of the Central Limit Theorem. \n",
    "\n",
    "We can reasonably assume that the data -- taken from the Journal of the\n",
    "American Medical Association -- from each test subject (observation) is independent from that of other subjects."
   ]
  },
  {
   "cell_type": "markdown",
   "metadata": {},
   "source": [
    "### Task 3: Is the true population mean really 98.6 degrees F?"
   ]
  },
  {
   "cell_type": "markdown",
   "metadata": {},
   "source": [
    "We'll first try a bootstrap method in which we'll generate many datasets from the given data, while assuming that the our null hypotheses is true, and calculate the probability that we could have obtained a dataset as extreme as the one we did (sample mean = 98.25). Let our null hypothesis state that the true population mean is equal to 98.6 degrees Fahrenheit and let alpha = 0.01 . "
   ]
  },
  {
   "cell_type": "code",
   "execution_count": 134,
   "metadata": {},
   "outputs": [
    {
     "name": "stdout",
     "output_type": "stream",
     "text": [
      "p-value = 0.0001\n"
     ]
    }
   ],
   "source": [
    "# Define bootstrap functions:\n",
    "\n",
    "def replicate(data, function):\n",
    "    \n",
    "    # Create the resampled array and return the statistic of interest:\n",
    "    return function(np.random.choice(data, size=len(data)))\n",
    "\n",
    "\n",
    "def draw_replicates(data, function, size=1):\n",
    "\n",
    "    # Initialize array of replicates:\n",
    "    replicates = np.empty(size)\n",
    "\n",
    "    # Generate replicates:\n",
    "    for i in range(size):\n",
    "        replicates[i] = replicate(data, function)\n",
    "\n",
    "    return replicates\n",
    "\n",
    "\n",
    "# Seed the random number generator\n",
    "np.random.seed(1)\n",
    "\n",
    "# Make an array of translated temperatures\n",
    "translated_temps = df.temperature - np.median(df.temperature) + 98.6\n",
    "\n",
    "# Draw bootstrap replicates of translated temperatures\n",
    "translated_replicates = draw_replicates(translated_temps, np.mean, 10000)\n",
    "\n",
    "# Compute fraction of replicates that are less than the observed temperature mean\n",
    "p = np.sum(translated_replicates <= np.median(df.temperature)) / len(translated_replicates)\n",
    "\n",
    "# Print the p-value:\n",
    "print('p-value =', p)"
   ]
  },
  {
   "cell_type": "markdown",
   "metadata": {},
   "source": [
    "Since this probability is clearly below our alpha level, we will initially reject our null hypothesis. \n",
    "\n",
    "Let's next perform a one-sample T test (opposed to a one-sample Z test, for which we would need to know the population standard deviation) and then create a 99.9 percent confidence interval for t*. We're using a one-sample test opposed to a two-sample test since we're only drawing from one population and testing whether our parameter (mean) is equivalent to the known population mean (98.6 degrees Fahrenheit).\n",
    "\n",
    "Let our null hypothesis state again that the true population mean is equal to 98.6 degrees Fahrenheit. Let alpha again equal 0.01."
   ]
  },
  {
   "cell_type": "code",
   "execution_count": 135,
   "metadata": {},
   "outputs": [
    {
     "name": "stdout",
     "output_type": "stream",
     "text": [
      "t* = -5.4548232923645195\n",
      "p-value = 2.4106320415561276e-07\n",
      "99.9% Confidence Interval = [ -3.3675464541818454 , 3.367546454181878 ]\n"
     ]
    }
   ],
   "source": [
    "from scipy import stats\n",
    "\n",
    "# perform one-sample T test\n",
    "\n",
    "t = stats.ttest_1samp(df.temperature, 98.6)[0]\n",
    "p = stats.ttest_1samp(df.temperature, 98.6)[1]\n",
    "\n",
    "print('t* =', t)\n",
    "print('p-value =', p)\n",
    "print('99.9% Confidence Interval = [', (stats.t.ppf(q=0.0005, df=n-1)), ',',(stats.t.ppf(q=0.9995, df=n-1)), ']')"
   ]
  },
  {
   "cell_type": "markdown",
   "metadata": {},
   "source": [
    "If our null hypothesis is true, we would expect to get a result as extreme as the one obtained from our sample roughly 0.0000241% of the time. Since this value is smaller than our alpha level, we can again reject the null hypothesis and conclude our evidence doesn't suggest the true population mean is 98.6 degrees Fahrenheit. This decision is further supported by the fact t* falls firmly out of our confidence interval."
   ]
  },
  {
   "cell_type": "code",
   "execution_count": 136,
   "metadata": {},
   "outputs": [
    {
     "name": "stdout",
     "output_type": "stream",
     "text": [
      "z* = -5.475925202078116\n",
      "p-value = 4.3523151658821886e-08\n"
     ]
    }
   ],
   "source": [
    "# perform one-sample Z Test\n",
    "z = (np.mean(df.temperature) - 98.6) / (np.std(df.temperature)/np.sqrt(len(df.temperature)))\n",
    "\n",
    "# Calculate and save p-value:\n",
    "p = stats.norm.cdf(z) * 2\n",
    "\n",
    "# Print the values for z and p:\n",
    "print('z* =', z)\n",
    "print('p-value =', p)"
   ]
  },
  {
   "cell_type": "markdown",
   "metadata": {},
   "source": [
    "If we assume our sample standard deviation reasonably represents our population standard deviation and subsequently carry out a Z test for our data, we achieve a similar test statistic to that from our T test, but with an even lower p-value. The difference between the results reflects the nature of the two distributions, where the T distribution is calculated without knowledge of the population standard deviation and consequently gives less precise results. Regardless, we again achieved a p-value below our alpha level and now have even more evidence to reject the null hypothesis."
   ]
  },
  {
   "cell_type": "markdown",
   "metadata": {},
   "source": [
    "### Task 4: Draw a small sample of size 10 from the data and repeat both frequentist tests"
   ]
  },
  {
   "cell_type": "code",
   "execution_count": 137,
   "metadata": {},
   "outputs": [
    {
     "data": {
      "text/plain": [
       "array([98. , 97.8, 98.4, 99.1, 98.2, 97.8, 97.4, 97.8, 98.2, 97.5])"
      ]
     },
     "execution_count": 137,
     "metadata": {},
     "output_type": "execute_result"
    }
   ],
   "source": [
    "# Draw a random sample of 10 from the temperature data\n",
    "sample = np.random.choice(df.temperature, size=10)\n",
    "sample"
   ]
  },
  {
   "cell_type": "code",
   "execution_count": 138,
   "metadata": {},
   "outputs": [
    {
     "name": "stdout",
     "output_type": "stream",
     "text": [
      "t* = -3.7300942268494723\n",
      "p-value = 0.004696784229237778\n"
     ]
    }
   ],
   "source": [
    "t = stats.ttest_1samp(sample, 98.6)[0]\n",
    "p = stats.ttest_1samp(sample, 98.6)[1]\n",
    "\n",
    "print('t* =', t)\n",
    "print('p-value =', p)"
   ]
  },
  {
   "cell_type": "code",
   "execution_count": 139,
   "metadata": {},
   "outputs": [
    {
     "name": "stdout",
     "output_type": "stream",
     "text": [
      "z* = -3.9318645479630434\n",
      "p-value = 8.428955654324551e-05\n"
     ]
    }
   ],
   "source": [
    "z = (np.mean(sample) - 98.6) / (np.std(sample)/np.sqrt(len(sample)))\n",
    "p = stats.norm.cdf(z) * 2\n",
    "\n",
    "# Print the values for z and p:\n",
    "print('z* =', z)\n",
    "print('p-value =', p)"
   ]
  },
  {
   "cell_type": "markdown",
   "metadata": {},
   "source": [
    "Which one is the correct one to use?\n",
    "\n",
    "Since we don't know the population standard deviation and now have a sample size that doesn't meet the n > 30 rule of thumb, the T test is clearly the more appropriate way to go. While both would reject the null at as low as the 0.005 alpha level, the Z test calculates a far more extreme value under the assuption that this new sample standard deviation is representative of the population."
   ]
  },
  {
   "cell_type": "markdown",
   "metadata": {},
   "source": [
    "### Task 5: At what temperature should we consider someone's temperature to be \"abnormal\"?"
   ]
  },
  {
   "cell_type": "code",
   "execution_count": 140,
   "metadata": {},
   "outputs": [
    {
     "name": "stdout",
     "output_type": "stream",
     "text": [
      "Standard Error of the Mean (SEM) = 0.06405661469519336\n",
      "Margin of Error (MOE) = 0.12554865777413815\n",
      "95% Confidence Interval = [98.12368211 98.37477943]\n"
     ]
    }
   ],
   "source": [
    "from scipy.stats import norm\n",
    "\n",
    "# Calculate standard deviation\n",
    "s = np.std(df.temperature)\n",
    "# Calculate standard error of the mean\n",
    "sem = s/np.sqrt(n)\n",
    "\n",
    "# Define critical value for 95 % confidence interval\n",
    "z_critical = norm.ppf(0.975) # two tailed\n",
    "\n",
    "print('Standard Error of the Mean (SEM) =', sem)\n",
    "\n",
    "# Calculate and save the margin of error:\n",
    "moe = z_critical * sem\n",
    "print('Margin of Error (MOE) =', moe)\n",
    "\n",
    "CI = np.array([np.mean(df.temperature) - moe, np.mean(df.temperature) + moe])\n",
    "print('95% Confidence Interval =', CI)"
   ]
  },
  {
   "cell_type": "markdown",
   "metadata": {},
   "source": [
    "The SEM measures how far the sample mean is likely to be from the true population mean (compared to the standard deviation, which measures the average variability for the datapoints in a dataset relative to its mean).\n",
    "\n",
    "The MOE is a measure that puts the SEM in terms of our desired confidence level. This result is used to calculate our confidence interval, for which the MOE represents half of the width.\n",
    "\n",
    "The resulting confidence interval gives us a range of plausible values for the population mean at our stated confidence level. However, this doesn't give us the range of plausible values for an individual draw from the population, from which we could determine if someone has an 'abnormal' temperature. For that, we should construct a prediction interval, which provides a range of values that predicts the value of a new observation. Observations beyond the limits of this range should be considered abnormal."
   ]
  },
  {
   "cell_type": "code",
   "execution_count": 141,
   "metadata": {},
   "outputs": [
    {
     "name": "stdout",
     "output_type": "stream",
     "text": [
      "99.9% Prediction Interval: (95.8459689741907, 100.65249256427087)\n"
     ]
    }
   ],
   "source": [
    "PI = stats.norm.interval(0.999, loc=np.mean(df.temperature), scale=np.std(df.temperature))\n",
    "print('99.9% Prediction Interval:', PI)"
   ]
  },
  {
   "cell_type": "markdown",
   "metadata": {},
   "source": [
    "We'd expect 99.9 percent of new observations to land within this range. However, this might be too strict of a definition and we should consider allowing a 95 percent prediction interval to define what will consider an abnormal temperature."
   ]
  },
  {
   "cell_type": "code",
   "execution_count": 142,
   "metadata": {},
   "outputs": [
    {
     "name": "stdout",
     "output_type": "stream",
     "text": [
      "95% Prediction Interval: (96.81775582674824, 99.68070571171332)\n"
     ]
    }
   ],
   "source": [
    "PI = stats.norm.interval(0.95, loc=np.mean(df.temperature), scale=np.std(df.temperature))\n",
    "print('95% Prediction Interval:', PI)"
   ]
  },
  {
   "cell_type": "markdown",
   "metadata": {},
   "source": [
    "This new interval is more sensitive to outliers and other values society would likely consider abnormal."
   ]
  },
  {
   "cell_type": "code",
   "execution_count": 143,
   "metadata": {},
   "outputs": [
    {
     "data": {
      "image/png": "[encoded data removed]",
      "text/plain": [
       "<matplotlib.figure.Figure at 0x1a1c47c860>"
      ]
     },
     "metadata": {},
     "output_type": "display_data"
    }
   ],
   "source": [
    "sns.distplot(df.temperature)\n",
    "\n",
    "# Increase tick mark font size, label axes and add title:\n",
    "plt.tick_params(axis='x', which='major', labelsize=14)\n",
    "plt.xlabel('Temperature ($^\\circ$F)', fontsize=14)\n",
    "plt.ylabel('PDF')\n",
    "plt.title('Distribution of Temperatures', fontsize=18)\n",
    "\n",
    "# Add text and lines marking the 99.9% confidence interval:\n",
    "plt.text(x=CI[0]-0.65, y=0.2, s='0.05% CI')\n",
    "plt.vlines(ymin=0, ymax=0.2, x=CI[0])\n",
    "plt.text(x=CI[1]-0.1, y=0.2, s='99.95% CI')\n",
    "plt.vlines(ymin=0, ymax=0.2, x=CI[1])\n",
    "\n",
    "# Add a lines for different means:\n",
    "plt.text(x=M-0.15, y=0.6, s='$\\overline{x}$')\n",
    "plt.vlines(ymin=0, ymax=0.6, x=M, color='red')\n",
    "plt.text(x=98.6, y=0.6, s='98.6$^\\circ$F')\n",
    "plt.vlines(ymin=0, ymax=0.6, x=98.6, color='green')\n",
    "\n",
    "# Add text and lines marking the 95% prediction interval:\n",
    "plt.text(x=PI[0]-0.65, y=0.2, s='2.5% PI')\n",
    "plt.vlines(ymin=0, ymax=0.2, x=PI[0])\n",
    "plt.text(x=PI[1], y=0.2, s='97.5% PI')\n",
    "plt.vlines(ymin=0, ymax=0.2, x=PI[1])\n",
    "\n",
    "# Remove x-axis label for the boxplot:\n",
    "boxplot.set(xlabel='')\n",
    "\n",
    "# Display the plots:\n",
    "plt.show()"
   ]
  },
  {
   "cell_type": "markdown",
   "metadata": {},
   "source": [
    "The above figure allows us to compare the 99.9% confidence interval with the 95% prediction interval. "
   ]
  },
  {
   "cell_type": "code",
   "execution_count": 144,
   "metadata": {},
   "outputs": [
    {
     "data": {
      "text/html": [
       "<div>\n",
       "<style>\n",
       "    .dataframe thead tr:only-child th {\n",
       "        text-align: right;\n",
       "    }\n",
       "\n",
       "    .dataframe thead th {\n",
       "        text-align: left;\n",
       "    }\n",
       "\n",
       "    .dataframe tbody tr th {\n",
       "        vertical-align: top;\n",
       "    }\n",
       "</style>\n",
       "<table border=\"1\" class=\"dataframe\">\n",
       "  <thead>\n",
       "    <tr style=\"text-align: right;\">\n",
       "      <th></th>\n",
       "      <th>temperature</th>\n",
       "      <th>gender</th>\n",
       "      <th>heart_rate</th>\n",
       "    </tr>\n",
       "  </thead>\n",
       "  <tbody>\n",
       "    <tr>\n",
       "      <th>11</th>\n",
       "      <td>96.7</td>\n",
       "      <td>F</td>\n",
       "      <td>62.0</td>\n",
       "    </tr>\n",
       "    <tr>\n",
       "      <th>39</th>\n",
       "      <td>96.4</td>\n",
       "      <td>F</td>\n",
       "      <td>69.0</td>\n",
       "    </tr>\n",
       "    <tr>\n",
       "      <th>91</th>\n",
       "      <td>100.0</td>\n",
       "      <td>F</td>\n",
       "      <td>78.0</td>\n",
       "    </tr>\n",
       "    <tr>\n",
       "      <th>95</th>\n",
       "      <td>96.8</td>\n",
       "      <td>F</td>\n",
       "      <td>75.0</td>\n",
       "    </tr>\n",
       "    <tr>\n",
       "      <th>96</th>\n",
       "      <td>99.9</td>\n",
       "      <td>F</td>\n",
       "      <td>79.0</td>\n",
       "    </tr>\n",
       "    <tr>\n",
       "      <th>105</th>\n",
       "      <td>96.7</td>\n",
       "      <td>M</td>\n",
       "      <td>71.0</td>\n",
       "    </tr>\n",
       "    <tr>\n",
       "      <th>116</th>\n",
       "      <td>100.8</td>\n",
       "      <td>F</td>\n",
       "      <td>77.0</td>\n",
       "    </tr>\n",
       "    <tr>\n",
       "      <th>125</th>\n",
       "      <td>96.3</td>\n",
       "      <td>M</td>\n",
       "      <td>70.0</td>\n",
       "    </tr>\n",
       "  </tbody>\n",
       "</table>\n",
       "</div>"
      ],
      "text/plain": [
       "     temperature gender  heart_rate\n",
       "11          96.7      F        62.0\n",
       "39          96.4      F        69.0\n",
       "91         100.0      F        78.0\n",
       "95          96.8      F        75.0\n",
       "96          99.9      F        79.0\n",
       "105         96.7      M        71.0\n",
       "116        100.8      F        77.0\n",
       "125         96.3      M        70.0"
      ]
     },
     "execution_count": 144,
     "metadata": {},
     "output_type": "execute_result"
    }
   ],
   "source": [
    "abnormal_upper = df.temperature > PI[1]\n",
    "abnormal_lower = df.temperature < PI[0]\n",
    "filters = abnormal_upper | abnormal_lower\n",
    "df[filters]"
   ]
  },
  {
   "cell_type": "markdown",
   "metadata": {},
   "source": [
    "From this definition of ours, we would view eight of the 130 observations to be 'abnormal'. "
   ]
  },
  {
   "cell_type": "code",
   "execution_count": 145,
   "metadata": {},
   "outputs": [
    {
     "data": {
      "text/plain": [
       "0.06153846153846154"
      ]
     },
     "execution_count": 145,
     "metadata": {},
     "output_type": "execute_result"
    }
   ],
   "source": [
    "8/130"
   ]
  },
  {
   "cell_type": "markdown",
   "metadata": {},
   "source": [
    "### Task 6: Is there a significant difference between males and females in normal temperature?"
   ]
  },
  {
   "cell_type": "code",
   "execution_count": 146,
   "metadata": {},
   "outputs": [
    {
     "name": "stdout",
     "output_type": "stream",
     "text": [
      "Number of men in study: 65\n",
      "Average male body temp: 98.1046153846154\n",
      "Number of women in study: 65\n",
      "Average female body temp: 98.39384615384613\n"
     ]
    }
   ],
   "source": [
    "print('Number of men in study:', len(df[df.gender == 'M']))\n",
    "print('Average male body temp:', np.mean(df.temperature[df.gender == 'M']))\n",
    "print('Number of women in study:', len(df[df.gender == 'F']))\n",
    "print('Average female body temp:', np.mean(df.temperature[df.gender == 'F']))"
   ]
  },
  {
   "cell_type": "code",
   "execution_count": 147,
   "metadata": {},
   "outputs": [
    {
     "data": {
      "image/png": "[encoded data removed]",
      "text/plain": [
       "<matplotlib.figure.Figure at 0x1a1c082438>"
      ]
     },
     "metadata": {},
     "output_type": "display_data"
    }
   ],
   "source": [
    "# Create boxplots for temperature by gender:\n",
    "fig = sns.boxplot(x='gender', y='temperature', data=df)\n",
    "\n",
    "# Increase tick mark font size, label axes and add title:\n",
    "plt.tick_params(axis='x', which='major', labelsize=14)\n",
    "fig = plt.xlabel('Gender', fontsize=14)\n",
    "fig = plt.ylabel('Temperature ($^\\circ$F)')\n",
    "plt.title('Distribution of Body Temperatures', fontsize=18)\n",
    "\n",
    "# Display the plots:\n",
    "plt.show()"
   ]
  },
  {
   "cell_type": "markdown",
   "metadata": {},
   "source": [
    "Having both n>30 samples for each of men and women, we have large enough sample sizes to use either a Z or T test to assess whether there's a difference (in terms of average body temp) for each group. Judging by the displayed box plot, we have reason to suspect there is one.\n",
    "\n",
    "Now we'll run a T test at a 0.05 alpha level under the null hypothesis that there is no difference between the average male and female body temperatures."
   ]
  },
  {
   "cell_type": "code",
   "execution_count": 148,
   "metadata": {},
   "outputs": [
    {
     "name": "stdout",
     "output_type": "stream",
     "text": [
      "t* = 2.2854345381656103\n",
      "p-value = 0.02393188312239561\n",
      "95% CI = -1.9977296536259739 1.9977296536259734\n"
     ]
    }
   ],
   "source": [
    "female_temp = df.temperature[df.gender == 'F']\n",
    "male_temp = df.temperature[df.gender == 'M']\n",
    "\n",
    "t = stats.ttest_ind(female_temp, male_temp)[0]\n",
    "p = stats.ttest_ind(female_temp, male_temp)[1]\n",
    "\n",
    "print('t* =', t)\n",
    "print('p-value =', p)\n",
    "print('95% CI =', (stats.t.ppf(q=0.025, df=65-1)), (stats.t.ppf(q=0.975, df=65-1)))"
   ]
  },
  {
   "cell_type": "markdown",
   "metadata": {},
   "source": [
    "As we suspected, our T test would lead us to reject the null hypothesis and conclude that we have the evidence to suggest there is a difference between the average male and female body temperature."
   ]
  },
  {
   "cell_type": "code",
   "execution_count": null,
   "metadata": {},
   "outputs": [],
   "source": []
  }
 ],
 "metadata": {
  "kernelspec": {
   "display_name": "Python 3",
   "language": "python",
   "name": "python3"
  },
  "language_info": {
   "codemirror_mode": {
    "name": "ipython",
    "version": 3
   },
   "file_extension": ".py",
   "mimetype": "text/x-python",
   "name": "python",
   "nbconvert_exporter": "python",
   "pygments_lexer": "ipython3",
   "version": "3.6.8"
  }
 },
 "nbformat": 4,
 "nbformat_minor": 1
}
