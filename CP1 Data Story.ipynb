{
 "cells": [
  {
   "cell_type": "markdown",
   "metadata": {},
   "source": [
    "# CP1 Data Story\n",
    "## By Logan Larson"
   ]
  },
  {
   "cell_type": "markdown",
   "metadata": {},
   "source": [
    "Most of us are left to experience the world of professional sports from the outside, looking in, with no alternative but to compete in imaginary realms absent of any athletic barriers to entry. The baseball community realized this in the 1980s and ultimately devised a game within a game that could allow the average fan to get a taste of professional baseball. How it worked was generally straightforward: Participants took turns claiming individual athletes within the MLB before the season started, and as the season went on, whoever put together the most statistically productive team usually won.\n",
    "\n",
    "Known today as \"fantasy baseball,\" this imaginary game only gained popularity with time and  nowadays there exists a version of it for practically every major American sport. Based on 2017 year-end data from the Fantasy Sports and Gaming Association, roughly 60 million (roughly 21 percent) poeple in the American/Canadian population (age 12-plus) were estimated to have participated in some capacity in 2017."
   ]
  },
  {
   "cell_type": "code",
   "execution_count": 36,
   "metadata": {},
   "outputs": [
    {
     "data": {
      "image/png": "[encoded data removed]",
      "text/plain": [
       "<matplotlib.figure.Figure at 0x105f4b470>"
      ]
     },
     "metadata": {
      "needs_background": "light"
     },
     "output_type": "display_data"
    }
   ],
   "source": [
    "import pandas as pd\n",
    "import numpy as np\n",
    "import matplotlib as mpl\n",
    "import matplotlib.pyplot as plt\n",
    "import matplotlib.cm as cm\n",
    "%matplotlib inline\n",
    "import scipy as sp\n",
    "import seaborn as sns\n",
    "from six.moves import range\n",
    "\n",
    "\n",
    "\n",
    "participation_data = pd.read_csv(\"fantasy_participation.csv\")\n",
    "\n",
    "\n",
    "plt.plot(participation_data['Year'], participation_data['Player_estimate']/1000000)\n",
    "plt.ylim(0, 70)\n",
    "plt.title(\"Rise of Fantasy Sports\")\n",
    "plt.ylabel(\"Estimated participation (in millions)\")\n",
    "plt.show()"
   ]
  },
  {
   "cell_type": "markdown",
   "metadata": {},
   "source": [
    "Regardless of sport, the statistical production of any athlete always depends greatest on one factor: availability. The logic is intuitive in that an athlete must be available to compete in order to produce.\n",
    "\n",
    "Therefore, paying attention to injuries is important for anyone particpating in a fantasy sport. And there may be no sport with less certainty around its players’ game-by-game availability than football in the National Football League, whose players, according to NFL Injury Analytics, have historically been about four times as likely to get injured in a practice or game than players in the NBA, MLB or NHL."
   ]
  },
  {
   "cell_type": "code",
   "execution_count": 37,
   "metadata": {},
   "outputs": [
    {
     "data": {
      "image/png": "[encoded data removed]",
      "text/plain": [
       "<matplotlib.figure.Figure at 0x115ff5c88>"
      ]
     },
     "metadata": {
      "needs_background": "light"
     },
     "output_type": "display_data"
    }
   ],
   "source": [
    "injury_data = pd.read_csv(\"injury_rates.csv\")\n",
    "o = injury_data['Sport']\n",
    "y_pos = np.arange(len(o))\n",
    "rate = injury_data['Injury_rate']\n",
    "\n",
    "plt.bar(y_pos, rate, align='center', alpha=0.6)\n",
    "plt.xticks(y_pos, o)\n",
    "\n",
    "plt.title(\"Game Injury Rate by Sport\")\n",
    "plt.ylabel(\"Injuries per 10,000 Exposure Hours\")\n",
    "plt.show()"
   ]
  },
  {
   "cell_type": "markdown",
   "metadata": {},
   "source": [
    "For a wide variety of reasons, recognizing the individual players that aren’t healthy enough to play can pose a significant advantage for the average fantasy football participant. Knowing which players are slated to benefit from that teammate’s absence is even more advantageous. Yet in either case, it’s always better to learn the information sooner than later — especially in high-stakes leagues with prize money at stake. The problem is that NFL teams have little incentive to provide the general public with perfectly accurate information on a real-time basis since that information could also provide a competitive advantage to its opponent. This often forces fantasy football participants to rely upon the media for injury-related information.\n",
    "\n",
    "However, it usually isn’t enough to simply have the knowledge of these health updates since, again, there are instances when learning the updates only poses an advantage when you learn the information before your competition does. Therefore, a program that could analyze a credible news stream and alert players of injury updates — in real-time — would therefore be of significant utility to anyone who plays fantasy football. \n",
    "\n",
    "The most logical place to start building such a program is the Twitter feed of Adam Schefter, an award-winning NFL reporter who is widely considered the most credible NFL insider among the media. Collected and displayed below is a dataset of over 30,000 of his tweets "
   ]
  },
  {
   "cell_type": "code",
   "execution_count": 38,
   "metadata": {},
   "outputs": [],
   "source": [
    "df = pd.read_csv('clean_schefter_tweets3.csv')\n",
    "del df['Unnamed: 0'] # get rid of unneeded column"
   ]
  },
  {
   "cell_type": "code",
   "execution_count": 39,
   "metadata": {},
   "outputs": [
    {
     "data": {
      "text/html": [
       "<div>\n",
       "<style>\n",
       "    .dataframe thead tr:only-child th {\n",
       "        text-align: right;\n",
       "    }\n",
       "\n",
       "    .dataframe thead th {\n",
       "        text-align: left;\n",
       "    }\n",
       "\n",
       "    .dataframe tbody tr th {\n",
       "        vertical-align: top;\n",
       "    }\n",
       "</style>\n",
       "<table border=\"1\" class=\"dataframe\">\n",
       "  <thead>\n",
       "    <tr style=\"text-align: right;\">\n",
       "      <th></th>\n",
       "      <th>DoW</th>\n",
       "      <th>Month</th>\n",
       "      <th>Day</th>\n",
       "      <th>Time</th>\n",
       "      <th>Year</th>\n",
       "      <th>Tweet</th>\n",
       "      <th>Timestamp</th>\n",
       "      <th>Date</th>\n",
       "    </tr>\n",
       "  </thead>\n",
       "  <tbody>\n",
       "    <tr>\n",
       "      <th>0</th>\n",
       "      <td>Fri</td>\n",
       "      <td>Oct</td>\n",
       "      <td>27</td>\n",
       "      <td>18:58:04</td>\n",
       "      <td>2017</td>\n",
       "      <td>Here’s the article from @SethWickersham and @D...</td>\n",
       "      <td>2017-10-27 18:58:04</td>\n",
       "      <td>Oct 27 2017</td>\n",
       "    </tr>\n",
       "    <tr>\n",
       "      <th>1</th>\n",
       "      <td>Wed</td>\n",
       "      <td>Dec</td>\n",
       "      <td>19</td>\n",
       "      <td>18:23:26</td>\n",
       "      <td>2018</td>\n",
       "      <td>FOX analyst DeMarco Murray is considering taki...</td>\n",
       "      <td>2018-12-19 18:23:26</td>\n",
       "      <td>Dec 19 2018</td>\n",
       "    </tr>\n",
       "    <tr>\n",
       "      <th>2</th>\n",
       "      <td>Mon</td>\n",
       "      <td>Jan</td>\n",
       "      <td>4</td>\n",
       "      <td>19:09:57</td>\n",
       "      <td>2010</td>\n",
       "      <td>For time being, Raiders coaches including HC T...</td>\n",
       "      <td>2010-01-04 19:09:57</td>\n",
       "      <td>Jan 04 2010</td>\n",
       "    </tr>\n",
       "    <tr>\n",
       "      <th>3</th>\n",
       "      <td>Tue</td>\n",
       "      <td>Sep</td>\n",
       "      <td>6</td>\n",
       "      <td>10:57:48</td>\n",
       "      <td>2016</td>\n",
       "      <td>One of best days of year: OGBA draft at 630, f...</td>\n",
       "      <td>2016-09-06 10:57:48</td>\n",
       "      <td>Sep 06 2016</td>\n",
       "    </tr>\n",
       "    <tr>\n",
       "      <th>4</th>\n",
       "      <td>Mon</td>\n",
       "      <td>Jan</td>\n",
       "      <td>7</td>\n",
       "      <td>04:51:35</td>\n",
       "      <td>2013</td>\n",
       "      <td>Seahawks fear DE Chris Clemons tore his ACL an...</td>\n",
       "      <td>2013-01-07 04:51:35</td>\n",
       "      <td>Jan 07 2013</td>\n",
       "    </tr>\n",
       "  </tbody>\n",
       "</table>\n",
       "</div>"
      ],
      "text/plain": [
       "   DoW Month  Day      Time  Year  \\\n",
       "0  Fri   Oct   27  18:58:04  2017   \n",
       "1  Wed   Dec   19  18:23:26  2018   \n",
       "2  Mon   Jan    4  19:09:57  2010   \n",
       "3  Tue   Sep    6  10:57:48  2016   \n",
       "4  Mon   Jan    7  04:51:35  2013   \n",
       "\n",
       "                                               Tweet            Timestamp  \\\n",
       "0  Here’s the article from @SethWickersham and @D...  2017-10-27 18:58:04   \n",
       "1  FOX analyst DeMarco Murray is considering taki...  2018-12-19 18:23:26   \n",
       "2  For time being, Raiders coaches including HC T...  2010-01-04 19:09:57   \n",
       "3  One of best days of year: OGBA draft at 630, f...  2016-09-06 10:57:48   \n",
       "4  Seahawks fear DE Chris Clemons tore his ACL an...  2013-01-07 04:51:35   \n",
       "\n",
       "          Date  \n",
       "0  Oct 27 2017  \n",
       "1  Dec 19 2018  \n",
       "2  Jan 04 2010  \n",
       "3  Sep 06 2016  \n",
       "4  Jan 07 2013  "
      ]
     },
     "execution_count": 39,
     "metadata": {},
     "output_type": "execute_result"
    }
   ],
   "source": [
    "df.head()"
   ]
  },
  {
   "cell_type": "code",
   "execution_count": 40,
   "metadata": {},
   "outputs": [
    {
     "data": {
      "text/plain": [
       "33041"
      ]
     },
     "execution_count": 40,
     "metadata": {},
     "output_type": "execute_result"
    }
   ],
   "source": [
    "len(df)"
   ]
  },
  {
   "cell_type": "code",
   "execution_count": 41,
   "metadata": {},
   "outputs": [
    {
     "data": {
      "text/plain": [
       "Mon    5699\n",
       "Sun    5124\n",
       "Tue    4944\n",
       "Wed    4812\n",
       "Fri    4703\n",
       "Thu    4580\n",
       "Sat    3179\n",
       "Name: DoW, dtype: int64"
      ]
     },
     "execution_count": 41,
     "metadata": {},
     "output_type": "execute_result"
    }
   ],
   "source": [
    "df['DoW'].value_counts()"
   ]
  },
  {
   "cell_type": "markdown",
   "metadata": {},
   "source": [
    "It's a slight surprise that he wasn't most active on Sundays, when the vast majority of NFL games are played, but its possible he's most active Monday because of extensive follow-ups on injuries that happened in the games the day before."
   ]
  },
  {
   "cell_type": "code",
   "execution_count": 42,
   "metadata": {},
   "outputs": [
    {
     "data": {
      "text/plain": [
       "Mar    4167\n",
       "Jan    3536\n",
       "Sep    3395\n",
       "Oct    3116\n",
       "Apr    3033\n",
       "Dec    3029\n",
       "Nov    2908\n",
       "Aug    2721\n",
       "Jul    2024\n",
       "Feb    1883\n",
       "May    1750\n",
       "Jun    1479\n",
       "Name: Month, dtype: int64"
      ]
     },
     "execution_count": 42,
     "metadata": {},
     "output_type": "execute_result"
    }
   ],
   "source": [
    "df['Month'].value_counts()"
   ]
  },
  {
   "cell_type": "markdown",
   "metadata": {},
   "source": [
    "It's also surprising he was most active in March because the NFL's regular season runs mid-September through December/early January."
   ]
  },
  {
   "cell_type": "code",
   "execution_count": 43,
   "metadata": {},
   "outputs": [
    {
     "data": {
      "image/png": "[encoded data removed]",
      "text/plain": [
       "<matplotlib.figure.Figure at 0x1a184c09b0>"
      ]
     },
     "metadata": {
      "needs_background": "light"
     },
     "output_type": "display_data"
    }
   ],
   "source": [
    "def count_elements(seq) -> dict:\n",
    "    hist = {}\n",
    "    for i in seq:\n",
    "        hist[i] = hist.get(i, 0) + 1\n",
    "    return hist\n",
    "\n",
    "counted = count_elements(df['Date'])\n",
    "lists = sorted(counted.items())\n",
    "\n",
    "x, y = zip(*lists)\n",
    "\n",
    "plt.title(\"Adam Schefter Tweets over Time\")\n",
    "plt.ylabel(\"Tweets per Day\")\n",
    "plt.plot(x, y)\n",
    "plt.show()"
   ]
  },
  {
   "cell_type": "code",
   "execution_count": 44,
   "metadata": {},
   "outputs": [
    {
     "data": {
      "text/plain": [
       "(122, 'Apr 24 2010')"
      ]
     },
     "execution_count": 44,
     "metadata": {},
     "output_type": "execute_result"
    }
   ],
   "source": [
    "# check out the anomaly\n",
    "\n",
    "max(zip(counted.values(), counted.keys()))"
   ]
  },
  {
   "cell_type": "code",
   "execution_count": 45,
   "metadata": {},
   "outputs": [
    {
     "data": {
      "image/png": "[encoded data removed]",
      "text/plain": [
       "<matplotlib.figure.Figure at 0x1a189bb630>"
      ]
     },
     "metadata": {
      "needs_background": "light"
     },
     "output_type": "display_data"
    }
   ],
   "source": [
    "plt.ylim(0, 80, 10)\n",
    "plt.title(\"Adam Schefter Tweets over Time\")\n",
    "plt.ylabel(\"Number of tweets\")\n",
    "plt.plot(x, y)\n",
    "plt.show()"
   ]
  },
  {
   "cell_type": "markdown",
   "metadata": {},
   "source": [
    "Once I finish labeling the tweets as injury-relevant or not, I can further analyze which keywords will help me categorize future tweets."
   ]
  },
  {
   "cell_type": "code",
   "execution_count": 46,
   "metadata": {},
   "outputs": [],
   "source": [
    "labeled = pd.read_csv(\"labeled_schefter_tweets.csv\")"
   ]
  },
  {
   "cell_type": "code",
   "execution_count": 47,
   "metadata": {},
   "outputs": [
    {
     "data": {
      "text/html": [
       "<div>\n",
       "<style>\n",
       "    .dataframe thead tr:only-child th {\n",
       "        text-align: right;\n",
       "    }\n",
       "\n",
       "    .dataframe thead th {\n",
       "        text-align: left;\n",
       "    }\n",
       "\n",
       "    .dataframe tbody tr th {\n",
       "        vertical-align: top;\n",
       "    }\n",
       "</style>\n",
       "<table border=\"1\" class=\"dataframe\">\n",
       "  <thead>\n",
       "    <tr style=\"text-align: right;\">\n",
       "      <th></th>\n",
       "      <th>Timestamp</th>\n",
       "      <th>Date</th>\n",
       "      <th>DoW</th>\n",
       "      <th>Month</th>\n",
       "      <th>Day</th>\n",
       "      <th>Time</th>\n",
       "      <th>Year</th>\n",
       "      <th>Class</th>\n",
       "      <th>Tweet</th>\n",
       "    </tr>\n",
       "  </thead>\n",
       "  <tbody>\n",
       "    <tr>\n",
       "      <th>0</th>\n",
       "      <td>Apr 01 2010 01:34:04</td>\n",
       "      <td>Apr 01 2010</td>\n",
       "      <td>Thu</td>\n",
       "      <td>Apr</td>\n",
       "      <td>1</td>\n",
       "      <td>01:34:04</td>\n",
       "      <td>2010</td>\n",
       "      <td>X</td>\n",
       "      <td>RT @will_e_777: Where does Elam rank in best k...</td>\n",
       "    </tr>\n",
       "    <tr>\n",
       "      <th>1</th>\n",
       "      <td>Apr 01 2010 13:01:03</td>\n",
       "      <td>Apr 01 2010</td>\n",
       "      <td>Thu</td>\n",
       "      <td>Apr</td>\n",
       "      <td>1</td>\n",
       "      <td>13:01:03</td>\n",
       "      <td>2010</td>\n",
       "      <td>X</td>\n",
       "      <td>A prediction that's no April Fool's joke: Ther...</td>\n",
       "    </tr>\n",
       "    <tr>\n",
       "      <th>2</th>\n",
       "      <td>Apr 01 2010 13:22:24</td>\n",
       "      <td>Apr 01 2010</td>\n",
       "      <td>Thu</td>\n",
       "      <td>Apr</td>\n",
       "      <td>1</td>\n",
       "      <td>13:22:24</td>\n",
       "      <td>2010</td>\n",
       "      <td>T</td>\n",
       "      <td>Giants re-signed restricted free agent guard K...</td>\n",
       "    </tr>\n",
       "    <tr>\n",
       "      <th>3</th>\n",
       "      <td>Apr 01 2010 14:12:35</td>\n",
       "      <td>Apr 01 2010</td>\n",
       "      <td>Thu</td>\n",
       "      <td>Apr</td>\n",
       "      <td>1</td>\n",
       "      <td>14:12:35</td>\n",
       "      <td>2010</td>\n",
       "      <td>X</td>\n",
       "      <td>@ProFootballTalk Aaron Schobel is not retiring...</td>\n",
       "    </tr>\n",
       "    <tr>\n",
       "      <th>4</th>\n",
       "      <td>Apr 01 2010 14:19:29</td>\n",
       "      <td>Apr 01 2010</td>\n",
       "      <td>Thu</td>\n",
       "      <td>Apr</td>\n",
       "      <td>1</td>\n",
       "      <td>14:19:29</td>\n",
       "      <td>2010</td>\n",
       "      <td>X</td>\n",
       "      <td>Jimmy Clausen now scheduled to fly to Washingt...</td>\n",
       "    </tr>\n",
       "  </tbody>\n",
       "</table>\n",
       "</div>"
      ],
      "text/plain": [
       "              Timestamp         Date  DoW Month  Day      Time  Year Class  \\\n",
       "0  Apr 01 2010 01:34:04  Apr 01 2010  Thu   Apr    1  01:34:04  2010     X   \n",
       "1  Apr 01 2010 13:01:03  Apr 01 2010  Thu   Apr    1  13:01:03  2010     X   \n",
       "2  Apr 01 2010 13:22:24  Apr 01 2010  Thu   Apr    1  13:22:24  2010     T   \n",
       "3  Apr 01 2010 14:12:35  Apr 01 2010  Thu   Apr    1  14:12:35  2010     X   \n",
       "4  Apr 01 2010 14:19:29  Apr 01 2010  Thu   Apr    1  14:19:29  2010     X   \n",
       "\n",
       "                                               Tweet  \n",
       "0  RT @will_e_777: Where does Elam rank in best k...  \n",
       "1  A prediction that's no April Fool's joke: Ther...  \n",
       "2  Giants re-signed restricted free agent guard K...  \n",
       "3  @ProFootballTalk Aaron Schobel is not retiring...  \n",
       "4  Jimmy Clausen now scheduled to fly to Washingt...  "
      ]
     },
     "execution_count": 47,
     "metadata": {},
     "output_type": "execute_result"
    }
   ],
   "source": [
    "labeled.head()"
   ]
  },
  {
   "cell_type": "code",
   "execution_count": 48,
   "metadata": {},
   "outputs": [
    {
     "data": {
      "text/plain": [
       "X    25576\n",
       "T     3978\n",
       "I     3487\n",
       "Name: Class, dtype: int64"
      ]
     },
     "execution_count": 48,
     "metadata": {},
     "output_type": "execute_result"
    }
   ],
   "source": [
    "labeled['Class'].value_counts()"
   ]
  },
  {
   "cell_type": "markdown",
   "metadata": {},
   "source": [
    "An initial goal of my project is to take Schefter's tweets and categorize them into three categories: X, T and I. The 'T' label designates a tweet is transactionary or, in other words, any tweet that contains information about any player transactions that impact their contract status or playing eligibility. The 'I' label designates any workload impediments such as injury updates or role changes. The 'X' label is any and everything else.\n",
    "\n",
    "We care about 'T' tweets because we need to know which players are on which teams -- and within those teams, which of the players are eligible to compete in the first place. Then we get more specific with the 'I' tweets to gain further information on which eligible players are healthy to play and, subsequently, how much playing time they can be expected to receive. The 'X' tweets are then entirely irrelevant for our purposes since they don't offer us any further, actionable information. \n",
    "\n",
    "For the purposes of fantasy football, the 'I' tweets are generally most important to us because the most relevant players don't often change teams, but the injury bug doesn't discriminate."
   ]
  },
  {
   "cell_type": "code",
   "execution_count": 49,
   "metadata": {},
   "outputs": [
    {
     "data": {
      "text/plain": [
       "to      15356\n",
       "the     12046\n",
       "and      9201\n",
       "a        8596\n",
       "in       7429\n",
       "for      7192\n",
       "on       6631\n",
       "is       6243\n",
       "of       5617\n",
       "with     5006\n",
       "RT       3940\n",
       "will     3899\n",
       "per      3705\n",
       "his      3176\n",
       "be       3112\n",
       "dtype: int64"
      ]
     },
     "execution_count": 49,
     "metadata": {},
     "output_type": "execute_result"
    }
   ],
   "source": [
    "allfreq = labeled.Tweet.str.split(expand=True).stack().value_counts()\n",
    "\n",
    "# view his most used words\n",
    "all.head(15)"
   ]
  },
  {
   "cell_type": "markdown",
   "metadata": {},
   "source": [
    "It's no surprise at all to see so many conjunctions atop this list."
   ]
  },
  {
   "cell_type": "code",
   "execution_count": 50,
   "metadata": {},
   "outputs": [
    {
     "data": {
      "text/plain": [
       "to      1725\n",
       "is      1301\n",
       "a       1040\n",
       "for     1013\n",
       "will     947\n",
       "and      911\n",
       "WR       744\n",
       "his      707\n",
       "RB       689\n",
       "per      673\n",
       "play     621\n",
       "the      570\n",
       "with     547\n",
       "out      540\n",
       "as       536\n",
       "dtype: int64"
      ]
     },
     "execution_count": 50,
     "metadata": {},
     "output_type": "execute_result"
    }
   ],
   "source": [
    "itweets = labeled['Class'] == 'I' # create Boolean list\n",
    "itweets2 = labeled[itweets]\n",
    "ifreq = itweets2.Tweet.str.split(expand=True).stack().value_counts()\n",
    "ifreq.head(15)"
   ]
  },
  {
   "cell_type": "code",
   "execution_count": 51,
   "metadata": {},
   "outputs": [
    {
     "data": {
      "text/plain": [
       "to           1576\n",
       "a            1440\n",
       "and          1237\n",
       "on           1142\n",
       "signed       1058\n",
       "the          1017\n",
       "with         1003\n",
       "per           818\n",
       "former        699\n",
       "for           653\n",
       "have          622\n",
       "WR            575\n",
       "source.       540\n",
       "released      518\n",
       "agreement     514\n",
       "dtype: int64"
      ]
     },
     "execution_count": 51,
     "metadata": {},
     "output_type": "execute_result"
    }
   ],
   "source": [
    "ttweets = labeled['Class'] == 'T' # create Boolean list\n",
    "ttweets2 = labeled[ttweets]\n",
    "tfreq = ttweets2.Tweet.str.split(expand=True).stack().value_counts()\n",
    "tfreq.head(15)"
   ]
  },
  {
   "cell_type": "markdown",
   "metadata": {},
   "source": [
    "Above are the word counts for each subset of 'I' and 'T' tweets, respectively. What's interesting is that the transactionary tweets commonly use words in some form of a past tense, like 'signed' and 'released', compared to the impediment terms that frequently use words like 'is' and 'will' that suggest future or current tenses."
   ]
  },
  {
   "cell_type": "code",
   "execution_count": 56,
   "metadata": {},
   "outputs": [
    {
     "data": {
      "image/png": "[encoded data removed]",
      "text/plain": [
       "<matplotlib.figure.Figure at 0x1154b2b00>"
      ]
     },
     "metadata": {
      "needs_background": "light"
     },
     "output_type": "display_data"
    }
   ],
   "source": [
    "counted2 = count_elements(ttweets2['Date'])\n",
    "lists = sorted(counted2.items())\n",
    "\n",
    "x, y = zip(*lists)\n",
    "\n",
    "plt.title(\"'T' Tweets over Time\")\n",
    "plt.ylabel(\"Number of tweets\")\n",
    "plt.plot(x, y)\n",
    "plt.show()"
   ]
  },
  {
   "cell_type": "code",
   "execution_count": 57,
   "metadata": {},
   "outputs": [
    {
     "data": {
      "image/png": "[encoded data removed]",
      "text/plain": [
       "<matplotlib.figure.Figure at 0x1a21cb1470>"
      ]
     },
     "metadata": {
      "needs_background": "light"
     },
     "output_type": "display_data"
    }
   ],
   "source": [
    "counted3 = count_elements(itweets2['Date'])\n",
    "lists = sorted(counted3.items())\n",
    "\n",
    "x, y = zip(*lists)\n",
    "\n",
    "plt.title(\"'I' Tweets over Time\")\n",
    "plt.ylabel(\"Number of tweets\")\n",
    "plt.plot(x, y)\n",
    "plt.show()"
   ]
  },
  {
   "cell_type": "markdown",
   "metadata": {},
   "source": [
    "In the latter graph, it seems Schefter has become more involved with injury updates over time. Meanwhile, the former graph suggests some offseasons may have more active free-agent markets than other years. But most importantly, when you compare the trend of 'I' tweets to all of his tweets, his total volume seems cyclically stable - but if it holds that he truly has been more active in the injury department in recent years - then it follows that, on the whole, his average tweet is more likely to be relevant to us than it was in year's past."
   ]
  },
  {
   "cell_type": "code",
   "execution_count": 67,
   "metadata": {},
   "outputs": [
    {
     "data": {
      "text/plain": [
       "Mar    994\n",
       "Sep    453\n",
       "Apr    434\n",
       "Aug    412\n",
       "Jul    340\n",
       "Nov    274\n",
       "Oct    266\n",
       "Dec    216\n",
       "May    195\n",
       "Jun    164\n",
       "Feb    159\n",
       "Jan     71\n",
       "Name: Month, dtype: int64"
      ]
     },
     "execution_count": 67,
     "metadata": {},
     "output_type": "execute_result"
    }
   ],
   "source": [
    "ttweets2.Month.value_counts()"
   ]
  },
  {
   "cell_type": "code",
   "execution_count": 68,
   "metadata": {},
   "outputs": [
    {
     "data": {
      "text/plain": [
       "Oct    783\n",
       "Sep    661\n",
       "Nov    659\n",
       "Dec    546\n",
       "Aug    366\n",
       "Jan    155\n",
       "Jul     94\n",
       "May     74\n",
       "Jun     43\n",
       "Feb     36\n",
       "Apr     35\n",
       "Mar     35\n",
       "Name: Month, dtype: int64"
      ]
     },
     "execution_count": 68,
     "metadata": {},
     "output_type": "execute_result"
    }
   ],
   "source": [
    "itweets2.Month.value_counts()"
   ]
  },
  {
   "cell_type": "markdown",
   "metadata": {},
   "source": [
    "Here is the frequency of tweets per month, grouped by 'I' tweets and 'T' tweets. Again, there's nothing surprising here since it's intuitive that the most injury notes are posted when football is being played (an NFL season runs September through January, preceded by two months of training camp and the preseason in July and August). Meanwhile, free agency opens in March and the NFL Draft is in April, and most roster cuts happen before the regular season -- in August and early September -- so we would expect those four months to have the highest frequencies of transactionary tweets."
   ]
  }
 ],
 "metadata": {
  "kernelspec": {
   "display_name": "Python 3",
   "language": "python",
   "name": "python3"
  },
  "language_info": {
   "codemirror_mode": {
    "name": "ipython",
    "version": 3
   },
   "file_extension": ".py",
   "mimetype": "text/x-python",
   "name": "python",
   "nbconvert_exporter": "python",
   "pygments_lexer": "ipython3",
   "version": "3.6.8"
  }
 },
 "nbformat": 4,
 "nbformat_minor": 2
}
