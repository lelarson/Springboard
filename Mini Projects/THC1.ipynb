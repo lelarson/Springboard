{
 "cells": [
  {
   "cell_type": "markdown",
   "metadata": {},
   "source": [
    "# Data Analysis Take-Home Challenge\n",
    "\n",
    "### By Logan Larson"
   ]
  },
  {
   "cell_type": "code",
   "execution_count": 34,
   "metadata": {},
   "outputs": [],
   "source": [
    "import numpy as np\n",
    "import pandas as pd\n",
    "import matplotlib.pyplot as plt\n",
    "%matplotlib inline\n",
    "import seaborn as sns\n",
    "import json\n",
    "plt.style.use('seaborn-pastel')"
   ]
  },
  {
   "cell_type": "code",
   "execution_count": 2,
   "metadata": {},
   "outputs": [
    {
     "data": {
      "text/html": [
       "<div>\n",
       "<style scoped>\n",
       "    .dataframe tbody tr th:only-of-type {\n",
       "        vertical-align: middle;\n",
       "    }\n",
       "\n",
       "    .dataframe tbody tr th {\n",
       "        vertical-align: top;\n",
       "    }\n",
       "\n",
       "    .dataframe thead th {\n",
       "        text-align: right;\n",
       "    }\n",
       "</style>\n",
       "<table border=\"1\" class=\"dataframe\">\n",
       "  <thead>\n",
       "    <tr style=\"text-align: right;\">\n",
       "      <th></th>\n",
       "      <th>login_time</th>\n",
       "    </tr>\n",
       "  </thead>\n",
       "  <tbody>\n",
       "    <tr>\n",
       "      <td>0</td>\n",
       "      <td>1970-01-01 20:13:18</td>\n",
       "    </tr>\n",
       "    <tr>\n",
       "      <td>1</td>\n",
       "      <td>1970-01-01 20:16:10</td>\n",
       "    </tr>\n",
       "    <tr>\n",
       "      <td>2</td>\n",
       "      <td>1970-01-01 20:16:37</td>\n",
       "    </tr>\n",
       "    <tr>\n",
       "      <td>3</td>\n",
       "      <td>1970-01-01 20:16:36</td>\n",
       "    </tr>\n",
       "    <tr>\n",
       "      <td>4</td>\n",
       "      <td>1970-01-01 20:26:21</td>\n",
       "    </tr>\n",
       "  </tbody>\n",
       "</table>\n",
       "</div>"
      ],
      "text/plain": [
       "           login_time\n",
       "0 1970-01-01 20:13:18\n",
       "1 1970-01-01 20:16:10\n",
       "2 1970-01-01 20:16:37\n",
       "3 1970-01-01 20:16:36\n",
       "4 1970-01-01 20:26:21"
      ]
     },
     "execution_count": 2,
     "metadata": {},
     "output_type": "execute_result"
    }
   ],
   "source": [
    "# import data\n",
    "\n",
    "logins = pd.read_json('logins.json')\n",
    "df = pd.DataFrame(pd.to_datetime(logins['login_time']), columns=['login_time'])\n",
    "df.head()"
   ]
  },
  {
   "cell_type": "markdown",
   "metadata": {},
   "source": [
    "## Part 1: Exploratory Data Analysis"
   ]
  },
  {
   "cell_type": "code",
   "execution_count": 3,
   "metadata": {},
   "outputs": [
    {
     "name": "stdout",
     "output_type": "stream",
     "text": [
      "Beginning of time series:  \n",
      "            login_time\n",
      "0 1970-01-01 20:13:18\n",
      "1 1970-01-01 20:16:10\n",
      "2 1970-01-01 20:16:37\n",
      "3 1970-01-01 20:16:36\n",
      "4 1970-01-01 20:26:21 \n",
      "\n",
      "End of time series:  \n",
      "                login_time\n",
      "93137 1970-04-13 18:50:19\n",
      "93138 1970-04-13 18:43:56\n",
      "93139 1970-04-13 18:54:02\n",
      "93140 1970-04-13 18:57:38\n",
      "93141 1970-04-13 18:54:23\n"
     ]
    }
   ],
   "source": [
    "# view dataset\n",
    "print('Beginning of time series: ', '\\n', df.head(), '\\n')\n",
    "print('End of time series: ', '\\n', df.tail())"
   ]
  },
  {
   "cell_type": "code",
   "execution_count": 4,
   "metadata": {},
   "outputs": [
    {
     "name": "stdout",
     "output_type": "stream",
     "text": [
      "We are good to go. No null values exist in this dataset.\n"
     ]
    }
   ],
   "source": [
    "# check for null values in the dataset\n",
    "nulls = df.isnull().values.any()\n",
    "\n",
    "if nulls == False:\n",
    "    print('We are good to go. No null values exist in this dataset.')\n",
    "else:\n",
    "    print('Null values exist in this dataset')"
   ]
  },
  {
   "cell_type": "code",
   "execution_count": 5,
   "metadata": {},
   "outputs": [
    {
     "data": {
      "text/html": [
       "<div>\n",
       "<style scoped>\n",
       "    .dataframe tbody tr th:only-of-type {\n",
       "        vertical-align: middle;\n",
       "    }\n",
       "\n",
       "    .dataframe tbody tr th {\n",
       "        vertical-align: top;\n",
       "    }\n",
       "\n",
       "    .dataframe thead th {\n",
       "        text-align: right;\n",
       "    }\n",
       "</style>\n",
       "<table border=\"1\" class=\"dataframe\">\n",
       "  <thead>\n",
       "    <tr style=\"text-align: right;\">\n",
       "      <th></th>\n",
       "      <th>freq</th>\n",
       "    </tr>\n",
       "    <tr>\n",
       "      <th>login_time</th>\n",
       "      <th></th>\n",
       "    </tr>\n",
       "  </thead>\n",
       "  <tbody>\n",
       "    <tr>\n",
       "      <td>1970-01-01 20:00:00</td>\n",
       "      <td>2</td>\n",
       "    </tr>\n",
       "    <tr>\n",
       "      <td>1970-01-01 20:15:00</td>\n",
       "      <td>6</td>\n",
       "    </tr>\n",
       "    <tr>\n",
       "      <td>1970-01-01 20:30:00</td>\n",
       "      <td>9</td>\n",
       "    </tr>\n",
       "    <tr>\n",
       "      <td>1970-01-01 20:45:00</td>\n",
       "      <td>7</td>\n",
       "    </tr>\n",
       "    <tr>\n",
       "      <td>1970-01-01 21:00:00</td>\n",
       "      <td>1</td>\n",
       "    </tr>\n",
       "    <tr>\n",
       "      <td>...</td>\n",
       "      <td>...</td>\n",
       "    </tr>\n",
       "    <tr>\n",
       "      <td>1970-04-13 17:45:00</td>\n",
       "      <td>5</td>\n",
       "    </tr>\n",
       "    <tr>\n",
       "      <td>1970-04-13 18:00:00</td>\n",
       "      <td>5</td>\n",
       "    </tr>\n",
       "    <tr>\n",
       "      <td>1970-04-13 18:15:00</td>\n",
       "      <td>2</td>\n",
       "    </tr>\n",
       "    <tr>\n",
       "      <td>1970-04-13 18:30:00</td>\n",
       "      <td>7</td>\n",
       "    </tr>\n",
       "    <tr>\n",
       "      <td>1970-04-13 18:45:00</td>\n",
       "      <td>6</td>\n",
       "    </tr>\n",
       "  </tbody>\n",
       "</table>\n",
       "<p>9788 rows × 1 columns</p>\n",
       "</div>"
      ],
      "text/plain": [
       "                     freq\n",
       "login_time               \n",
       "1970-01-01 20:00:00     2\n",
       "1970-01-01 20:15:00     6\n",
       "1970-01-01 20:30:00     9\n",
       "1970-01-01 20:45:00     7\n",
       "1970-01-01 21:00:00     1\n",
       "...                   ...\n",
       "1970-04-13 17:45:00     5\n",
       "1970-04-13 18:00:00     5\n",
       "1970-04-13 18:15:00     2\n",
       "1970-04-13 18:30:00     7\n",
       "1970-04-13 18:45:00     6\n",
       "\n",
       "[9788 rows x 1 columns]"
      ]
     },
     "execution_count": 5,
     "metadata": {},
     "output_type": "execute_result"
    }
   ],
   "source": [
    "# group data by 15 minute intervals\n",
    "by15 = df.resample('15min', on='login_time').count()\n",
    "by15.columns = ['freq']\n",
    "by15"
   ]
  },
  {
   "cell_type": "code",
   "execution_count": 6,
   "metadata": {},
   "outputs": [
    {
     "name": "stdout",
     "output_type": "stream",
     "text": [
      "\n",
      " Summary Statistics of Grouped Dataset: \n",
      "\n",
      "count    9788.000000\n",
      "mean        9.515938\n",
      "std         8.328818\n",
      "min         0.000000\n",
      "25%         3.000000\n",
      "50%         7.000000\n",
      "75%        13.000000\n",
      "max        73.000000\n",
      "Name: freq, dtype: float64\n"
     ]
    }
   ],
   "source": [
    "print('\\n', 'Summary Statistics of Grouped Dataset:', '\\n')\n",
    "print(by15.freq.describe())"
   ]
  },
  {
   "cell_type": "code",
   "execution_count": 15,
   "metadata": {},
   "outputs": [
    {
     "name": "stdout",
     "output_type": "stream",
     "text": [
      "\n",
      " There were a total of 93142 logins from Jan 1 to April 13 of 1970. \n",
      "\n",
      "On average, roughly 904 logins occurred per day over this time. \n",
      "\n",
      "That equates to roughly 9.52 logins every 15 minutes with a maximum of 73 logins within a single 15-minute interval.\n"
     ]
    }
   ],
   "source": [
    "# calculate total number of logins and average logins per day \n",
    "total_logins = len(df)\n",
    "average_logins_per_day = round(total_logins/(31+28+31+13))\n",
    "per_15 = round(total_logins / by15.freq.count(), 2)\n",
    "\n",
    "print('\\n', 'There were a total of', total_logins, 'logins from Jan 1 to April 13 of 1970.', '\\n')\n",
    "print('On average, roughly', average_logins_per_day, 'logins occurred per day over this time.', '\\n')\n",
    "print('That equates to roughly', per_15, 'logins every 15 minutes with a maximum of', by15.freq.max(), 'logins within a single 15-minute interval.')"
   ]
  },
  {
   "cell_type": "code",
   "execution_count": 16,
   "metadata": {},
   "outputs": [
    {
     "data": {
      "text/plain": [
       "Text(0.5, 0, '')"
      ]
     },
     "execution_count": 16,
     "metadata": {},
     "output_type": "execute_result"
    },
    {
     "data": {
      "image/png": "[encoded data removed]",
      "text/plain": [
       "<Figure size 864x432 with 1 Axes>"
      ]
     },
     "metadata": {
      "needs_background": "light"
     },
     "output_type": "display_data"
    }
   ],
   "source": [
    "# plot login frequencies over time\n",
    "by15.plot(kind='line', figsize=(12,6))\n",
    "plt.title('Login Frequency Per 15 Minutes from Jan 1 to April 13 of 1970')\n",
    "plt.ylabel('Number of Logins')\n",
    "plt.xlabel(None)"
   ]
  },
  {
   "cell_type": "code",
   "execution_count": 17,
   "metadata": {},
   "outputs": [
    {
     "data": {
      "text/html": [
       "<div>\n",
       "<style scoped>\n",
       "    .dataframe tbody tr th:only-of-type {\n",
       "        vertical-align: middle;\n",
       "    }\n",
       "\n",
       "    .dataframe tbody tr th {\n",
       "        vertical-align: top;\n",
       "    }\n",
       "\n",
       "    .dataframe thead th {\n",
       "        text-align: right;\n",
       "    }\n",
       "</style>\n",
       "<table border=\"1\" class=\"dataframe\">\n",
       "  <thead>\n",
       "    <tr style=\"text-align: right;\">\n",
       "      <th></th>\n",
       "      <th>freq</th>\n",
       "      <th>day_of_week</th>\n",
       "      <th>day_of_month</th>\n",
       "    </tr>\n",
       "    <tr>\n",
       "      <th>login_time</th>\n",
       "      <th></th>\n",
       "      <th></th>\n",
       "      <th></th>\n",
       "    </tr>\n",
       "  </thead>\n",
       "  <tbody>\n",
       "    <tr>\n",
       "      <td>1970-01-01 20:00:00</td>\n",
       "      <td>2</td>\n",
       "      <td>3</td>\n",
       "      <td>1</td>\n",
       "    </tr>\n",
       "    <tr>\n",
       "      <td>1970-01-01 20:15:00</td>\n",
       "      <td>6</td>\n",
       "      <td>3</td>\n",
       "      <td>1</td>\n",
       "    </tr>\n",
       "    <tr>\n",
       "      <td>1970-01-01 20:30:00</td>\n",
       "      <td>9</td>\n",
       "      <td>3</td>\n",
       "      <td>1</td>\n",
       "    </tr>\n",
       "    <tr>\n",
       "      <td>1970-01-01 20:45:00</td>\n",
       "      <td>7</td>\n",
       "      <td>3</td>\n",
       "      <td>1</td>\n",
       "    </tr>\n",
       "    <tr>\n",
       "      <td>1970-01-01 21:00:00</td>\n",
       "      <td>1</td>\n",
       "      <td>3</td>\n",
       "      <td>1</td>\n",
       "    </tr>\n",
       "  </tbody>\n",
       "</table>\n",
       "</div>"
      ],
      "text/plain": [
       "                     freq  day_of_week  day_of_month\n",
       "login_time                                          \n",
       "1970-01-01 20:00:00     2            3             1\n",
       "1970-01-01 20:15:00     6            3             1\n",
       "1970-01-01 20:30:00     9            3             1\n",
       "1970-01-01 20:45:00     7            3             1\n",
       "1970-01-01 21:00:00     1            3             1"
      ]
     },
     "execution_count": 17,
     "metadata": {},
     "output_type": "execute_result"
    }
   ],
   "source": [
    "# create new columns for day of month and day of week\n",
    "by15 = by15.assign(day_of_week=by15.index.weekday)\n",
    "by15 = by15.assign(day_of_month=by15.index.day)\n",
    "by15.head()"
   ]
  },
  {
   "cell_type": "code",
   "execution_count": 22,
   "metadata": {},
   "outputs": [
    {
     "name": "stdout",
     "output_type": "stream",
     "text": [
      "Week days with most surges: \n",
      " 5    104\n",
      "6    103\n",
      "4     48\n",
      "3     15\n",
      "2      7\n",
      "1      7\n",
      "0      2\n",
      "Name: day, dtype: int64\n",
      "\n",
      " Days of month with most surges: \n",
      " 21    25\n",
      "4     24\n",
      "15    18\n",
      "22    18\n",
      "28    17\n",
      "7     15\n",
      "8     15\n",
      "29    14\n",
      "14    14\n",
      "3     13\n",
      "12    13\n",
      "13    11\n",
      "1     11\n",
      "18    10\n",
      "11    10\n",
      "19     9\n",
      "6      9\n",
      "5      8\n",
      "27     8\n",
      "17     7\n",
      "10     4\n",
      "20     4\n",
      "2      4\n",
      "25     2\n",
      "16     1\n",
      "24     1\n",
      "30     1\n",
      "Name: day, dtype: int64\n"
     ]
    }
   ],
   "source": [
    "# calculate the days with the most login surges (Monday = 0)\n",
    "max_traffic = np.quantile(by15, 0.99)\n",
    "max_traffic_df = by15[by15['freq'] >= max_traffic]\n",
    "monthday = []\n",
    "weekday = []\n",
    "\n",
    "for date in max_traffic_df.index:\n",
    "    monthday.append(date.day)\n",
    "    weekday.append(date.weekday())\n",
    "    \n",
    "most_active_days_of_week = pd.DataFrame(weekday, columns=['day'],index=range(len(weekday)))\n",
    "most_active_days_of_month = pd.DataFrame(monthday, columns=['day'],index=range(len(monthday)))\n",
    "\n",
    "print('Week days with most surges:', '\\n', most_active_days_of_week.day.value_counts())\n",
    "print('\\n', 'Days of month with most surges:', '\\n', most_active_days_of_month.day.value_counts())"
   ]
  },
  {
   "cell_type": "markdown",
   "metadata": {},
   "source": [
    "Considering the fifth day of the week corresponds with Saturday and the sixth with Sunday, it seems the weekends are the busiest time for logins. However, there doesn't appear to be a relationship between traffic and day of the month."
   ]
  },
  {
   "cell_type": "code",
   "execution_count": 25,
   "metadata": {},
   "outputs": [
    {
     "data": {
      "text/plain": [
       "Text(0.5, 0, '')"
      ]
     },
     "execution_count": 25,
     "metadata": {},
     "output_type": "execute_result"
    },
    {
     "data": {
      "image/png": "[encoded data removed]",
      "text/plain": [
       "<Figure size 864x432 with 1 Axes>"
      ]
     },
     "metadata": {
      "needs_background": "light"
     },
     "output_type": "display_data"
    }
   ],
   "source": [
    "## plot the daily frequency of logins\n",
    "\n",
    "# regroup by daily frequency\n",
    "byday = df.resample('1D', on='login_time').count()\n",
    "byday.plot(kind='line', figsize=(12,6))\n",
    "plt.title('Login Frequency Per Day from Jan 1 to April 13 of 1970')\n",
    "plt.ylabel('Number of Logins')\n",
    "plt.xlabel(None)"
   ]
  },
  {
   "cell_type": "code",
   "execution_count": 31,
   "metadata": {},
   "outputs": [
    {
     "data": {
      "text/html": [
       "<div>\n",
       "<style scoped>\n",
       "    .dataframe tbody tr th:only-of-type {\n",
       "        vertical-align: middle;\n",
       "    }\n",
       "\n",
       "    .dataframe tbody tr th {\n",
       "        vertical-align: top;\n",
       "    }\n",
       "\n",
       "    .dataframe thead th {\n",
       "        text-align: right;\n",
       "    }\n",
       "</style>\n",
       "<table border=\"1\" class=\"dataframe\">\n",
       "  <thead>\n",
       "    <tr style=\"text-align: right;\">\n",
       "      <th></th>\n",
       "      <th>count</th>\n",
       "      <th>day</th>\n",
       "    </tr>\n",
       "    <tr>\n",
       "      <th>login_time</th>\n",
       "      <th></th>\n",
       "      <th></th>\n",
       "    </tr>\n",
       "  </thead>\n",
       "  <tbody>\n",
       "    <tr>\n",
       "      <td>1970-01-01</td>\n",
       "      <td>112</td>\n",
       "      <td>0</td>\n",
       "    </tr>\n",
       "    <tr>\n",
       "      <td>1970-01-02</td>\n",
       "      <td>681</td>\n",
       "      <td>1</td>\n",
       "    </tr>\n",
       "    <tr>\n",
       "      <td>1970-01-03</td>\n",
       "      <td>793</td>\n",
       "      <td>2</td>\n",
       "    </tr>\n",
       "    <tr>\n",
       "      <td>1970-01-04</td>\n",
       "      <td>788</td>\n",
       "      <td>3</td>\n",
       "    </tr>\n",
       "    <tr>\n",
       "      <td>1970-01-05</td>\n",
       "      <td>459</td>\n",
       "      <td>4</td>\n",
       "    </tr>\n",
       "    <tr>\n",
       "      <td>...</td>\n",
       "      <td>...</td>\n",
       "      <td>...</td>\n",
       "    </tr>\n",
       "    <tr>\n",
       "      <td>1970-04-09</td>\n",
       "      <td>818</td>\n",
       "      <td>98</td>\n",
       "    </tr>\n",
       "    <tr>\n",
       "      <td>1970-04-10</td>\n",
       "      <td>1009</td>\n",
       "      <td>99</td>\n",
       "    </tr>\n",
       "    <tr>\n",
       "      <td>1970-04-11</td>\n",
       "      <td>1352</td>\n",
       "      <td>100</td>\n",
       "    </tr>\n",
       "    <tr>\n",
       "      <td>1970-04-12</td>\n",
       "      <td>1409</td>\n",
       "      <td>101</td>\n",
       "    </tr>\n",
       "    <tr>\n",
       "      <td>1970-04-13</td>\n",
       "      <td>395</td>\n",
       "      <td>102</td>\n",
       "    </tr>\n",
       "  </tbody>\n",
       "</table>\n",
       "<p>103 rows × 2 columns</p>\n",
       "</div>"
      ],
      "text/plain": [
       "            count  day\n",
       "login_time            \n",
       "1970-01-01    112    0\n",
       "1970-01-02    681    1\n",
       "1970-01-03    793    2\n",
       "1970-01-04    788    3\n",
       "1970-01-05    459    4\n",
       "...           ...  ...\n",
       "1970-04-09    818   98\n",
       "1970-04-10   1009   99\n",
       "1970-04-11   1352  100\n",
       "1970-04-12   1409  101\n",
       "1970-04-13    395  102\n",
       "\n",
       "[103 rows x 2 columns]"
      ]
     },
     "execution_count": 31,
     "metadata": {},
     "output_type": "execute_result"
    }
   ],
   "source": [
    "# another plot of daily frequencies showing regression line and confidence interval\n",
    "\n",
    "plotbyday = byday.assign(x = range(byday.shape[0]))\n",
    "plotbyday.columns = ['count', 'day']\n",
    "plotbyday"
   ]
  },
  {
   "cell_type": "code",
   "execution_count": 32,
   "metadata": {},
   "outputs": [
    {
     "data": {
      "text/plain": [
       "Text(0.5, 6.79999999999999, 'Days from January 1')"
      ]
     },
     "execution_count": 32,
     "metadata": {},
     "output_type": "execute_result"
    },
    {
     "data": {
      "image/png": "[encoded data removed]",
      "text/plain": [
       "<Figure size 360x360 with 1 Axes>"
      ]
     },
     "metadata": {
      "needs_background": "light"
     },
     "output_type": "display_data"
    }
   ],
   "source": [
    "sns.lmplot(data=plotbyday, x='day', y='count')\n",
    "plt.title('Login Frequency Per Day from Jan 1 to April 13 of 1970')\n",
    "plt.xlabel('Days from January 1')"
   ]
  },
  {
   "cell_type": "markdown",
   "metadata": {},
   "source": [
    "## Part 2: Experiment and Metrics Design"
   ]
  },
  {
   "cell_type": "markdown",
   "metadata": {},
   "source": [
    "### Prompt:\n",
    "\n",
    "The neighboring cities of Gotham and Metropolis have complementary circadian rhythms: on weekdays, Ultimate Gotham is most active at night, and Ultimate Metropolis is most active during the day. On weekends, there is reasonable activity in both cities. However, a toll bridge, with a two-way toll, between the two cities causes driver partners to tend to be exclusive to each city. The Ultimate managers of city operations for the two cities have proposed an experiment to encourage driver partners to be available in both cities, by reimbursing all toll costs.\n",
    "\n",
    "1. What would you choose as the key measure of success of this experiment in encouraging driver partners to serve both cities, and why would you choose this metric?\n",
    "2. Describe a practical experiment you would design to compare the effectiveness of the proposed change in relation to the key measure of success. Please provide details on:\n",
    "    - How you will implement the experiment\n",
    "    - What statistical test(s) you will conduct to verify the significance of the observation\n",
    "    - How you would interpret the results and provide recommendations to the city operations team along with any caveats"
   ]
  },
  {
   "cell_type": "markdown",
   "metadata": {},
   "source": [
    "### Answer: \n",
    "\n",
    "**Part 1:**\n",
    "\n",
    "While we know Ultimate wants to encourage drivers to be available in both cities, we aren't told why the company is specifically concerned with drivers being contained to just one of them. But if we think of the combination of the two cities as a single population, the most logical motivation is that Ultimate wants to maximize the total supply of available drivers at any one time. Doing so would not only maximize the amount of rides Ultimate can match with its drivers - and thus maximize profits - but it would also improve overall customer satisfaction, keeping demand and future profits high. \n",
    "\n",
    "A good measure of success for this experiment would be a measure thats optimization (or minimization) can tell us whether it's worth continuing the experiment to reimburse toll fees. In other words, we can't just do something like count the number of reimbursed tolls. Even though this could measure whether drivers are crossing the bridge at an increased rate, it doesn't measure either end goal of profits or customer satisfaction/future profits, and thus it would be difficult to tell if its worth it to continue reimbursing the toll costs. It follows that the ideal measure of success would be the proportion of potential riders who logged into the Ultimate app but didn't schedule a ride. More generally, we want the measure to be some form of 'Missed sales'. This is the ideal measure of success because it not only captures the profit component, but the customer satisfaction could be inferred since missed sales presumably corresponds with customer dissatisfaction. Better yet, we could measure the rides that involved the driver first crossing the bridge before picking up the rider as 'Gained Sales', since these kinds of rides apparently wouldn't be happening otherwise. Then, as long as 'Gained Sales' > 'Toll Reimbursement Costs', the experiment would be worth it.\n",
    "\n",
    "**Part 2:**\n",
    "\n",
    "My assumption is that Ultimate is a company that operates very similarly to Uber or Lyft. If so, ride-seekers in Gotham and Metropolis would interact with a mobile application by inputting their desired destination and, given their available options, picking an available driver to take them to the destination. Fortunately, this setup makes it relatively simple to design an experiment to test whether it's worth it for Ultimate to pay for toll fees. \n",
    "\n",
    "Starting from the first day of testing, Ultimate should log all instances of users who open the mobile app and input a destination. Of this group, we'd then track those who accepted a ride from a driver who was located in the opposite city at the time the user originally requested the ride. If the amount of total sales from these rides exceeds the total amount of reimbursed toll fees, the experiment is worth the cost and is thus practically significant.\n",
    "\n",
    "To specifically test for statistical significance, we could conduct a Time Series Intervention Analysis. However, we'd first need to collect data from multiple months prior, specifically measuring the users who opened the app and inputted a destination, but did not have a driver available from their city and the user subsequently closed the app. Using the user's original location and destination, we could then estimate the amount of 'Lost Sales' or 'Potential Sales - Lost' from each of these instances. We'd then measure the average amount of sales lost before the experiment and compare it the average amount of sales lost after the start of the experiment."
   ]
  },
  {
   "cell_type": "markdown",
   "metadata": {},
   "source": [
    "## Part 3: Predictive Modeling"
   ]
  },
  {
   "cell_type": "code",
   "execution_count": 35,
   "metadata": {},
   "outputs": [
    {
     "data": {
      "text/html": [
       "<div>\n",
       "<style scoped>\n",
       "    .dataframe tbody tr th:only-of-type {\n",
       "        vertical-align: middle;\n",
       "    }\n",
       "\n",
       "    .dataframe tbody tr th {\n",
       "        vertical-align: top;\n",
       "    }\n",
       "\n",
       "    .dataframe thead th {\n",
       "        text-align: right;\n",
       "    }\n",
       "</style>\n",
       "<table border=\"1\" class=\"dataframe\">\n",
       "  <thead>\n",
       "    <tr style=\"text-align: right;\">\n",
       "      <th></th>\n",
       "      <th>city</th>\n",
       "      <th>trips_in_first_30_days</th>\n",
       "      <th>signup_date</th>\n",
       "      <th>avg_rating_of_driver</th>\n",
       "      <th>avg_surge</th>\n",
       "      <th>last_trip_date</th>\n",
       "      <th>phone</th>\n",
       "      <th>surge_pct</th>\n",
       "      <th>ultimate_black_user</th>\n",
       "      <th>weekday_pct</th>\n",
       "      <th>avg_dist</th>\n",
       "      <th>avg_rating_by_driver</th>\n",
       "    </tr>\n",
       "  </thead>\n",
       "  <tbody>\n",
       "    <tr>\n",
       "      <td>0</td>\n",
       "      <td>King's Landing</td>\n",
       "      <td>4</td>\n",
       "      <td>2014-01-25</td>\n",
       "      <td>4.7</td>\n",
       "      <td>1.10</td>\n",
       "      <td>2014-06-17</td>\n",
       "      <td>iPhone</td>\n",
       "      <td>15.4</td>\n",
       "      <td>True</td>\n",
       "      <td>46.2</td>\n",
       "      <td>3.67</td>\n",
       "      <td>5.0</td>\n",
       "    </tr>\n",
       "    <tr>\n",
       "      <td>1</td>\n",
       "      <td>Astapor</td>\n",
       "      <td>0</td>\n",
       "      <td>2014-01-29</td>\n",
       "      <td>5.0</td>\n",
       "      <td>1.00</td>\n",
       "      <td>2014-05-05</td>\n",
       "      <td>Android</td>\n",
       "      <td>0.0</td>\n",
       "      <td>False</td>\n",
       "      <td>50.0</td>\n",
       "      <td>8.26</td>\n",
       "      <td>5.0</td>\n",
       "    </tr>\n",
       "    <tr>\n",
       "      <td>2</td>\n",
       "      <td>Astapor</td>\n",
       "      <td>3</td>\n",
       "      <td>2014-01-06</td>\n",
       "      <td>4.3</td>\n",
       "      <td>1.00</td>\n",
       "      <td>2014-01-07</td>\n",
       "      <td>iPhone</td>\n",
       "      <td>0.0</td>\n",
       "      <td>False</td>\n",
       "      <td>100.0</td>\n",
       "      <td>0.77</td>\n",
       "      <td>5.0</td>\n",
       "    </tr>\n",
       "    <tr>\n",
       "      <td>3</td>\n",
       "      <td>King's Landing</td>\n",
       "      <td>9</td>\n",
       "      <td>2014-01-10</td>\n",
       "      <td>4.6</td>\n",
       "      <td>1.14</td>\n",
       "      <td>2014-06-29</td>\n",
       "      <td>iPhone</td>\n",
       "      <td>20.0</td>\n",
       "      <td>True</td>\n",
       "      <td>80.0</td>\n",
       "      <td>2.36</td>\n",
       "      <td>4.9</td>\n",
       "    </tr>\n",
       "    <tr>\n",
       "      <td>4</td>\n",
       "      <td>Winterfell</td>\n",
       "      <td>14</td>\n",
       "      <td>2014-01-27</td>\n",
       "      <td>4.4</td>\n",
       "      <td>1.19</td>\n",
       "      <td>2014-03-15</td>\n",
       "      <td>Android</td>\n",
       "      <td>11.8</td>\n",
       "      <td>False</td>\n",
       "      <td>82.4</td>\n",
       "      <td>3.13</td>\n",
       "      <td>4.9</td>\n",
       "    </tr>\n",
       "  </tbody>\n",
       "</table>\n",
       "</div>"
      ],
      "text/plain": [
       "             city  trips_in_first_30_days signup_date  avg_rating_of_driver  \\\n",
       "0  King's Landing                       4  2014-01-25                   4.7   \n",
       "1         Astapor                       0  2014-01-29                   5.0   \n",
       "2         Astapor                       3  2014-01-06                   4.3   \n",
       "3  King's Landing                       9  2014-01-10                   4.6   \n",
       "4      Winterfell                      14  2014-01-27                   4.4   \n",
       "\n",
       "   avg_surge last_trip_date    phone  surge_pct  ultimate_black_user  \\\n",
       "0       1.10     2014-06-17   iPhone       15.4                 True   \n",
       "1       1.00     2014-05-05  Android        0.0                False   \n",
       "2       1.00     2014-01-07   iPhone        0.0                False   \n",
       "3       1.14     2014-06-29   iPhone       20.0                 True   \n",
       "4       1.19     2014-03-15  Android       11.8                False   \n",
       "\n",
       "   weekday_pct  avg_dist  avg_rating_by_driver  \n",
       "0         46.2      3.67                   5.0  \n",
       "1         50.0      8.26                   5.0  \n",
       "2        100.0      0.77                   5.0  \n",
       "3         80.0      2.36                   4.9  \n",
       "4         82.4      3.13                   4.9  "
      ]
     },
     "execution_count": 35,
     "metadata": {},
     "output_type": "execute_result"
    }
   ],
   "source": [
    "file = 'ultimate_data_challenge.json'\n",
    "with open(file) as file:\n",
    "    data = json.loads(file.read())\n",
    "df = pd.DataFrame(data)\n",
    "df.head()"
   ]
  },
  {
   "cell_type": "code",
   "execution_count": 36,
   "metadata": {},
   "outputs": [
    {
     "data": {
      "text/plain": [
       "50000"
      ]
     },
     "execution_count": 36,
     "metadata": {},
     "output_type": "execute_result"
    }
   ],
   "source": [
    "len(df)"
   ]
  },
  {
   "cell_type": "code",
   "execution_count": 37,
   "metadata": {},
   "outputs": [
    {
     "name": "stdout",
     "output_type": "stream",
     "text": [
      "<class 'pandas.core.frame.DataFrame'>\n",
      "RangeIndex: 50000 entries, 0 to 49999\n",
      "Data columns (total 12 columns):\n",
      "city                      50000 non-null object\n",
      "trips_in_first_30_days    50000 non-null int64\n",
      "signup_date               50000 non-null object\n",
      "avg_rating_of_driver      41878 non-null float64\n",
      "avg_surge                 50000 non-null float64\n",
      "last_trip_date            50000 non-null object\n",
      "phone                     49604 non-null object\n",
      "surge_pct                 50000 non-null float64\n",
      "ultimate_black_user       50000 non-null bool\n",
      "weekday_pct               50000 non-null float64\n",
      "avg_dist                  50000 non-null float64\n",
      "avg_rating_by_driver      49799 non-null float64\n",
      "dtypes: bool(1), float64(6), int64(1), object(4)\n",
      "memory usage: 4.2+ MB\n"
     ]
    }
   ],
   "source": [
    "df.info()"
   ]
  },
  {
   "cell_type": "code",
   "execution_count": 38,
   "metadata": {},
   "outputs": [
    {
     "name": "stdout",
     "output_type": "stream",
     "text": [
      "<class 'pandas.core.frame.DataFrame'>\n",
      "Int64Index: 49604 entries, 0 to 49999\n",
      "Data columns (total 12 columns):\n",
      "city                      49604 non-null object\n",
      "trips_in_first_30_days    49604 non-null int64\n",
      "signup_date               49604 non-null datetime64[ns]\n",
      "avg_rating_of_driver      49604 non-null float64\n",
      "avg_surge                 49604 non-null float64\n",
      "last_trip_date            49604 non-null datetime64[ns]\n",
      "phone                     49604 non-null object\n",
      "surge_pct                 49604 non-null float64\n",
      "ultimate_black_user       49604 non-null bool\n",
      "weekday_pct               49604 non-null float64\n",
      "avg_dist                  49604 non-null float64\n",
      "avg_rating_by_driver      49604 non-null float64\n",
      "dtypes: bool(1), datetime64[ns](2), float64(6), int64(1), object(2)\n",
      "memory usage: 4.6+ MB\n"
     ]
    }
   ],
   "source": [
    "## clean dataset \n",
    "\n",
    "# convert columns of dates to datetime objects\n",
    "df['last_trip_date'] = pd.to_datetime(df['last_trip_date'])\n",
    "df['signup_date'] = pd.to_datetime(df['signup_date'])\n",
    "\n",
    "# drop rows without a value in phone column\n",
    "# because it was the only of the three variables \n",
    "# with missing values that is categorical\n",
    "# and we can fill in the other two with mean values\n",
    "df = df.drop(df[df.phone.isna()==True].index, axis=0)\n",
    "df['avg_rating_by_driver'] = df['avg_rating_by_driver'].fillna(value=df['avg_rating_by_driver'].mean())\n",
    "df['avg_rating_of_driver'] = df['avg_rating_of_driver'].fillna(value=df['avg_rating_of_driver'].mean())\n",
    "df.info()"
   ]
  },
  {
   "cell_type": "code",
   "execution_count": 39,
   "metadata": {},
   "outputs": [
    {
     "data": {
      "text/html": [
       "<div>\n",
       "<style scoped>\n",
       "    .dataframe tbody tr th:only-of-type {\n",
       "        vertical-align: middle;\n",
       "    }\n",
       "\n",
       "    .dataframe tbody tr th {\n",
       "        vertical-align: top;\n",
       "    }\n",
       "\n",
       "    .dataframe thead th {\n",
       "        text-align: right;\n",
       "    }\n",
       "</style>\n",
       "<table border=\"1\" class=\"dataframe\">\n",
       "  <thead>\n",
       "    <tr style=\"text-align: right;\">\n",
       "      <th></th>\n",
       "      <th>trips_in_first_30_days</th>\n",
       "      <th>avg_rating_of_driver</th>\n",
       "      <th>avg_surge</th>\n",
       "      <th>surge_pct</th>\n",
       "      <th>weekday_pct</th>\n",
       "      <th>avg_dist</th>\n",
       "      <th>avg_rating_by_driver</th>\n",
       "    </tr>\n",
       "  </thead>\n",
       "  <tbody>\n",
       "    <tr>\n",
       "      <td>count</td>\n",
       "      <td>49604.000000</td>\n",
       "      <td>49604.000000</td>\n",
       "      <td>49604.000000</td>\n",
       "      <td>49604.000000</td>\n",
       "      <td>49604.000000</td>\n",
       "      <td>49604.000000</td>\n",
       "      <td>49604.000000</td>\n",
       "    </tr>\n",
       "    <tr>\n",
       "      <td>mean</td>\n",
       "      <td>2.277256</td>\n",
       "      <td>4.601467</td>\n",
       "      <td>1.074991</td>\n",
       "      <td>8.875314</td>\n",
       "      <td>60.883832</td>\n",
       "      <td>5.785418</td>\n",
       "      <td>4.777861</td>\n",
       "    </tr>\n",
       "    <tr>\n",
       "      <td>std</td>\n",
       "      <td>3.793300</td>\n",
       "      <td>0.565227</td>\n",
       "      <td>0.222666</td>\n",
       "      <td>19.989018</td>\n",
       "      <td>37.086239</td>\n",
       "      <td>5.669709</td>\n",
       "      <td>0.446220</td>\n",
       "    </tr>\n",
       "    <tr>\n",
       "      <td>min</td>\n",
       "      <td>0.000000</td>\n",
       "      <td>1.000000</td>\n",
       "      <td>1.000000</td>\n",
       "      <td>0.000000</td>\n",
       "      <td>0.000000</td>\n",
       "      <td>0.000000</td>\n",
       "      <td>1.000000</td>\n",
       "    </tr>\n",
       "    <tr>\n",
       "      <td>25%</td>\n",
       "      <td>0.000000</td>\n",
       "      <td>4.500000</td>\n",
       "      <td>1.000000</td>\n",
       "      <td>0.000000</td>\n",
       "      <td>33.300000</td>\n",
       "      <td>2.420000</td>\n",
       "      <td>4.700000</td>\n",
       "    </tr>\n",
       "    <tr>\n",
       "      <td>50%</td>\n",
       "      <td>1.000000</td>\n",
       "      <td>4.700000</td>\n",
       "      <td>1.000000</td>\n",
       "      <td>0.000000</td>\n",
       "      <td>66.700000</td>\n",
       "      <td>3.880000</td>\n",
       "      <td>5.000000</td>\n",
       "    </tr>\n",
       "    <tr>\n",
       "      <td>75%</td>\n",
       "      <td>3.000000</td>\n",
       "      <td>5.000000</td>\n",
       "      <td>1.050000</td>\n",
       "      <td>8.700000</td>\n",
       "      <td>100.000000</td>\n",
       "      <td>6.930000</td>\n",
       "      <td>5.000000</td>\n",
       "    </tr>\n",
       "    <tr>\n",
       "      <td>max</td>\n",
       "      <td>125.000000</td>\n",
       "      <td>5.000000</td>\n",
       "      <td>8.000000</td>\n",
       "      <td>100.000000</td>\n",
       "      <td>100.000000</td>\n",
       "      <td>160.960000</td>\n",
       "      <td>5.000000</td>\n",
       "    </tr>\n",
       "  </tbody>\n",
       "</table>\n",
       "</div>"
      ],
      "text/plain": [
       "       trips_in_first_30_days  avg_rating_of_driver     avg_surge  \\\n",
       "count            49604.000000          49604.000000  49604.000000   \n",
       "mean                 2.277256              4.601467      1.074991   \n",
       "std                  3.793300              0.565227      0.222666   \n",
       "min                  0.000000              1.000000      1.000000   \n",
       "25%                  0.000000              4.500000      1.000000   \n",
       "50%                  1.000000              4.700000      1.000000   \n",
       "75%                  3.000000              5.000000      1.050000   \n",
       "max                125.000000              5.000000      8.000000   \n",
       "\n",
       "          surge_pct   weekday_pct      avg_dist  avg_rating_by_driver  \n",
       "count  49604.000000  49604.000000  49604.000000          49604.000000  \n",
       "mean       8.875314     60.883832      5.785418              4.777861  \n",
       "std       19.989018     37.086239      5.669709              0.446220  \n",
       "min        0.000000      0.000000      0.000000              1.000000  \n",
       "25%        0.000000     33.300000      2.420000              4.700000  \n",
       "50%        0.000000     66.700000      3.880000              5.000000  \n",
       "75%        8.700000    100.000000      6.930000              5.000000  \n",
       "max      100.000000    100.000000    160.960000              5.000000  "
      ]
     },
     "execution_count": 39,
     "metadata": {},
     "output_type": "execute_result"
    }
   ],
   "source": [
    "df.describe()"
   ]
  },
  {
   "cell_type": "code",
   "execution_count": 40,
   "metadata": {},
   "outputs": [
    {
     "data": {
      "text/plain": [
       "array([\"King's Landing\", 'Astapor', 'Winterfell'], dtype=object)"
      ]
     },
     "execution_count": 40,
     "metadata": {},
     "output_type": "execute_result"
    }
   ],
   "source": [
    "df.city.unique()"
   ]
  },
  {
   "cell_type": "code",
   "execution_count": 41,
   "metadata": {},
   "outputs": [
    {
     "data": {
      "text/html": [
       "<div>\n",
       "<style scoped>\n",
       "    .dataframe tbody tr th:only-of-type {\n",
       "        vertical-align: middle;\n",
       "    }\n",
       "\n",
       "    .dataframe tbody tr th {\n",
       "        vertical-align: top;\n",
       "    }\n",
       "\n",
       "    .dataframe thead th {\n",
       "        text-align: right;\n",
       "    }\n",
       "</style>\n",
       "<table border=\"1\" class=\"dataframe\">\n",
       "  <thead>\n",
       "    <tr style=\"text-align: right;\">\n",
       "      <th></th>\n",
       "      <th>city</th>\n",
       "      <th>trips_in_first_30_days</th>\n",
       "      <th>signup_date</th>\n",
       "      <th>avg_rating_of_driver</th>\n",
       "      <th>avg_surge</th>\n",
       "      <th>last_trip_date</th>\n",
       "      <th>phone</th>\n",
       "      <th>surge_pct</th>\n",
       "      <th>ultimate_black_user</th>\n",
       "      <th>weekday_pct</th>\n",
       "      <th>avg_dist</th>\n",
       "      <th>avg_rating_by_driver</th>\n",
       "      <th>user_is_active</th>\n",
       "    </tr>\n",
       "  </thead>\n",
       "  <tbody>\n",
       "    <tr>\n",
       "      <td>0</td>\n",
       "      <td>King's Landing</td>\n",
       "      <td>4</td>\n",
       "      <td>2014-01-25</td>\n",
       "      <td>4.7</td>\n",
       "      <td>1.10</td>\n",
       "      <td>2014-06-17</td>\n",
       "      <td>iPhone</td>\n",
       "      <td>15.4</td>\n",
       "      <td>True</td>\n",
       "      <td>46.2</td>\n",
       "      <td>3.67</td>\n",
       "      <td>5.0</td>\n",
       "      <td>1</td>\n",
       "    </tr>\n",
       "    <tr>\n",
       "      <td>1</td>\n",
       "      <td>Astapor</td>\n",
       "      <td>0</td>\n",
       "      <td>2014-01-29</td>\n",
       "      <td>5.0</td>\n",
       "      <td>1.00</td>\n",
       "      <td>2014-05-05</td>\n",
       "      <td>Android</td>\n",
       "      <td>0.0</td>\n",
       "      <td>False</td>\n",
       "      <td>50.0</td>\n",
       "      <td>8.26</td>\n",
       "      <td>5.0</td>\n",
       "      <td>0</td>\n",
       "    </tr>\n",
       "    <tr>\n",
       "      <td>2</td>\n",
       "      <td>Astapor</td>\n",
       "      <td>3</td>\n",
       "      <td>2014-01-06</td>\n",
       "      <td>4.3</td>\n",
       "      <td>1.00</td>\n",
       "      <td>2014-01-07</td>\n",
       "      <td>iPhone</td>\n",
       "      <td>0.0</td>\n",
       "      <td>False</td>\n",
       "      <td>100.0</td>\n",
       "      <td>0.77</td>\n",
       "      <td>5.0</td>\n",
       "      <td>0</td>\n",
       "    </tr>\n",
       "    <tr>\n",
       "      <td>3</td>\n",
       "      <td>King's Landing</td>\n",
       "      <td>9</td>\n",
       "      <td>2014-01-10</td>\n",
       "      <td>4.6</td>\n",
       "      <td>1.14</td>\n",
       "      <td>2014-06-29</td>\n",
       "      <td>iPhone</td>\n",
       "      <td>20.0</td>\n",
       "      <td>True</td>\n",
       "      <td>80.0</td>\n",
       "      <td>2.36</td>\n",
       "      <td>4.9</td>\n",
       "      <td>1</td>\n",
       "    </tr>\n",
       "    <tr>\n",
       "      <td>4</td>\n",
       "      <td>Winterfell</td>\n",
       "      <td>14</td>\n",
       "      <td>2014-01-27</td>\n",
       "      <td>4.4</td>\n",
       "      <td>1.19</td>\n",
       "      <td>2014-03-15</td>\n",
       "      <td>Android</td>\n",
       "      <td>11.8</td>\n",
       "      <td>False</td>\n",
       "      <td>82.4</td>\n",
       "      <td>3.13</td>\n",
       "      <td>4.9</td>\n",
       "      <td>0</td>\n",
       "    </tr>\n",
       "  </tbody>\n",
       "</table>\n",
       "</div>"
      ],
      "text/plain": [
       "             city  trips_in_first_30_days signup_date  avg_rating_of_driver  \\\n",
       "0  King's Landing                       4  2014-01-25                   4.7   \n",
       "1         Astapor                       0  2014-01-29                   5.0   \n",
       "2         Astapor                       3  2014-01-06                   4.3   \n",
       "3  King's Landing                       9  2014-01-10                   4.6   \n",
       "4      Winterfell                      14  2014-01-27                   4.4   \n",
       "\n",
       "   avg_surge last_trip_date    phone  surge_pct  ultimate_black_user  \\\n",
       "0       1.10     2014-06-17   iPhone       15.4                 True   \n",
       "1       1.00     2014-05-05  Android        0.0                False   \n",
       "2       1.00     2014-01-07   iPhone        0.0                False   \n",
       "3       1.14     2014-06-29   iPhone       20.0                 True   \n",
       "4       1.19     2014-03-15  Android       11.8                False   \n",
       "\n",
       "   weekday_pct  avg_dist  avg_rating_by_driver  user_is_active  \n",
       "0         46.2      3.67                   5.0               1  \n",
       "1         50.0      8.26                   5.0               0  \n",
       "2        100.0      0.77                   5.0               0  \n",
       "3         80.0      2.36                   4.9               1  \n",
       "4         82.4      3.13                   4.9               0  "
      ]
     },
     "execution_count": 41,
     "metadata": {},
     "output_type": "execute_result"
    }
   ],
   "source": [
    "# define variable for retained customers\n",
    "IndexDay = max(df['last_trip_date'])\n",
    "days = pd.date_range(end=IndexDay, periods=30, freq='D')\n",
    "df['user_is_active'] = df['last_trip_date'].apply(lambda date: 0 if (IndexDay-date).days > 30 else 1)\n",
    "df.head()"
   ]
  },
  {
   "cell_type": "code",
   "execution_count": 42,
   "metadata": {},
   "outputs": [
    {
     "name": "stdout",
     "output_type": "stream",
     "text": [
      "0.376 percent of users can be considered \"active\".\n"
     ]
    }
   ],
   "source": [
    "percent_active = (df.user_is_active == 1).sum() / len(df)\n",
    "print(round(percent_active, 3), 'percent of users can be considered \"active\".')"
   ]
  },
  {
   "cell_type": "code",
   "execution_count": 43,
   "metadata": {},
   "outputs": [
    {
     "data": {
      "text/plain": [
       "Text(0.5, 0, '')"
      ]
     },
     "execution_count": 43,
     "metadata": {},
     "output_type": "execute_result"
    },
    {
     "data": {
      "image/png": "[encoded data removed]",
      "text/plain": [
       "<Figure size 432x288 with 1 Axes>"
      ]
     },
     "metadata": {
      "needs_background": "light"
     },
     "output_type": "display_data"
    }
   ],
   "source": [
    "# plot of active users grouped by whether the user is also an Ultimate Black user\n",
    "sns.countplot(x='ultimate_black_user', hue='user_is_active', data=df)\n",
    "plt.title('Active Users Grouped by Ultimate Black Users')\n",
    "plt.ylabel('Number of Users')\n",
    "plt.xlabel(None)"
   ]
  },
  {
   "cell_type": "code",
   "execution_count": 44,
   "metadata": {},
   "outputs": [
    {
     "data": {
      "text/plain": [
       "Text(0.5, 0, '')"
      ]
     },
     "execution_count": 44,
     "metadata": {},
     "output_type": "execute_result"
    },
    {
     "data": {
      "image/png": "[encoded data removed]",
      "text/plain": [
       "<Figure size 432x288 with 1 Axes>"
      ]
     },
     "metadata": {
      "needs_background": "light"
     },
     "output_type": "display_data"
    }
   ],
   "source": [
    "# plot of active users grouped by city\n",
    "sns.countplot(x='city', hue='user_is_active', data=df)\n",
    "plt.title('Active Users Grouped by City')\n",
    "plt.ylabel('Number of Users')\n",
    "plt.xlabel(None)"
   ]
  },
  {
   "cell_type": "code",
   "execution_count": 45,
   "metadata": {},
   "outputs": [
    {
     "data": {
      "text/plain": [
       "Text(0.5, 0, '')"
      ]
     },
     "execution_count": 45,
     "metadata": {},
     "output_type": "execute_result"
    },
    {
     "data": {
      "image/png": "[encoded data removed]",
      "text/plain": [
       "<Figure size 432x288 with 1 Axes>"
      ]
     },
     "metadata": {
      "needs_background": "light"
     },
     "output_type": "display_data"
    }
   ],
   "source": [
    "# plot of active users grouped by the average driver rating of the user\n",
    "df['binned_rating_by_driver'] = df.avg_rating_by_driver.apply(lambda x: 0 if x < 0.5\n",
    "                                                                  else (0.5 if x < 1\n",
    "                                                                  else (1 if x < 1.5\n",
    "                                                                  else (1.5 if x < 2\n",
    "                                                                  else (2 if x < 2.5\n",
    "                                                                  else (2.5 if x < 3\n",
    "                                                                  else (3 if x < 3.5\n",
    "                                                                  else (3.5 if x < 4\n",
    "                                                                  else (4 if x < 4.5\n",
    "                                                                  else (4.5 if x < 5\n",
    "                                                                  else 5))))))))))\n",
    "df.head()\n",
    "\n",
    "# plot of active users by average review\n",
    "sns.countplot(x='binned_rating_by_driver', hue='user_is_active', data=df)\n",
    "plt.title('Active Users Grouped by User Rating')\n",
    "plt.ylabel('Number of Users')\n",
    "plt.xlabel(None)"
   ]
  },
  {
   "cell_type": "code",
   "execution_count": 46,
   "metadata": {},
   "outputs": [
    {
     "data": {
      "text/plain": [
       "Text(0.5, 0, '')"
      ]
     },
     "execution_count": 46,
     "metadata": {},
     "output_type": "execute_result"
    },
    {
     "data": {
      "image/png": "[encoded data removed]",
      "text/plain": [
       "<Figure size 432x288 with 1 Axes>"
      ]
     },
     "metadata": {
      "needs_background": "light"
     },
     "output_type": "display_data"
    }
   ],
   "source": [
    "# plot of active users grouped by phone\n",
    "sns.countplot(x='phone', hue='user_is_active', data=df)\n",
    "plt.title('Active Users by Phone Manufacturer')\n",
    "plt.ylabel('Number of Users')\n",
    "plt.xlabel(None)"
   ]
  },
  {
   "cell_type": "code",
   "execution_count": 47,
   "metadata": {},
   "outputs": [
    {
     "data": {
      "text/plain": [
       "count    49604.000000\n",
       "mean         5.785418\n",
       "std          5.669709\n",
       "min          0.000000\n",
       "25%          2.420000\n",
       "50%          3.880000\n",
       "75%          6.930000\n",
       "max        160.960000\n",
       "Name: avg_dist, dtype: float64"
      ]
     },
     "execution_count": 47,
     "metadata": {},
     "output_type": "execute_result"
    }
   ],
   "source": [
    "df.avg_dist.describe()"
   ]
  },
  {
   "cell_type": "code",
   "execution_count": 48,
   "metadata": {},
   "outputs": [
    {
     "data": {
      "text/plain": [
       "Text(0.5, 0, '')"
      ]
     },
     "execution_count": 48,
     "metadata": {},
     "output_type": "execute_result"
    },
    {
     "data": {
      "image/png": "[encoded data removed]",
      "text/plain": [
       "<Figure size 432x288 with 1 Axes>"
      ]
     },
     "metadata": {
      "needs_background": "light"
     },
     "output_type": "display_data"
    }
   ],
   "source": [
    "# plot of active users grouped by the average distance\n",
    "df['binned_avg_dist'] = df.avg_dist.apply(lambda x: 'Really Long' if x > 60\n",
    "                                          else ('Long' if x > 6.93\n",
    "                                                else ('Medium' if x > 3.88\n",
    "                                                      else ('Short' if x > 2.42\n",
    "                                                            else ('Really Short')))))\n",
    "df.head()\n",
    "\n",
    "# plot of active users by average review\n",
    "sns.countplot(x='binned_avg_dist', hue='user_is_active', order=['Really Short', 'Short', 'Medium', 'Long', 'Really Long'], data=df)\n",
    "plt.title('Active Users Grouped by User Rating')\n",
    "plt.ylabel('Number of Users')\n",
    "plt.xlabel(None)"
   ]
  },
  {
   "cell_type": "markdown",
   "metadata": {},
   "source": [
    "## Route 1: Building Logistic Regression Classifier"
   ]
  },
  {
   "cell_type": "code",
   "execution_count": 49,
   "metadata": {},
   "outputs": [
    {
     "data": {
      "text/html": [
       "<div>\n",
       "<style scoped>\n",
       "    .dataframe tbody tr th:only-of-type {\n",
       "        vertical-align: middle;\n",
       "    }\n",
       "\n",
       "    .dataframe tbody tr th {\n",
       "        vertical-align: top;\n",
       "    }\n",
       "\n",
       "    .dataframe thead th {\n",
       "        text-align: right;\n",
       "    }\n",
       "</style>\n",
       "<table border=\"1\" class=\"dataframe\">\n",
       "  <thead>\n",
       "    <tr style=\"text-align: right;\">\n",
       "      <th></th>\n",
       "      <th>trips_in_first_30_days</th>\n",
       "      <th>signup_date</th>\n",
       "      <th>avg_rating_of_driver</th>\n",
       "      <th>avg_surge</th>\n",
       "      <th>last_trip_date</th>\n",
       "      <th>surge_pct</th>\n",
       "      <th>weekday_pct</th>\n",
       "      <th>avg_dist</th>\n",
       "      <th>avg_rating_by_driver</th>\n",
       "      <th>user_is_active</th>\n",
       "      <th>binned_rating_by_driver</th>\n",
       "      <th>binned_avg_dist</th>\n",
       "      <th>city_King's Landing</th>\n",
       "      <th>city_Winterfell</th>\n",
       "      <th>phone_iPhone</th>\n",
       "      <th>ultimate_black_user_True</th>\n",
       "    </tr>\n",
       "  </thead>\n",
       "  <tbody>\n",
       "    <tr>\n",
       "      <td>0</td>\n",
       "      <td>4</td>\n",
       "      <td>2014-01-25</td>\n",
       "      <td>4.7</td>\n",
       "      <td>1.10</td>\n",
       "      <td>2014-06-17</td>\n",
       "      <td>15.4</td>\n",
       "      <td>46.2</td>\n",
       "      <td>3.67</td>\n",
       "      <td>5.0</td>\n",
       "      <td>1</td>\n",
       "      <td>5.0</td>\n",
       "      <td>Short</td>\n",
       "      <td>1</td>\n",
       "      <td>0</td>\n",
       "      <td>1</td>\n",
       "      <td>1</td>\n",
       "    </tr>\n",
       "    <tr>\n",
       "      <td>1</td>\n",
       "      <td>0</td>\n",
       "      <td>2014-01-29</td>\n",
       "      <td>5.0</td>\n",
       "      <td>1.00</td>\n",
       "      <td>2014-05-05</td>\n",
       "      <td>0.0</td>\n",
       "      <td>50.0</td>\n",
       "      <td>8.26</td>\n",
       "      <td>5.0</td>\n",
       "      <td>0</td>\n",
       "      <td>5.0</td>\n",
       "      <td>Long</td>\n",
       "      <td>0</td>\n",
       "      <td>0</td>\n",
       "      <td>0</td>\n",
       "      <td>0</td>\n",
       "    </tr>\n",
       "    <tr>\n",
       "      <td>2</td>\n",
       "      <td>3</td>\n",
       "      <td>2014-01-06</td>\n",
       "      <td>4.3</td>\n",
       "      <td>1.00</td>\n",
       "      <td>2014-01-07</td>\n",
       "      <td>0.0</td>\n",
       "      <td>100.0</td>\n",
       "      <td>0.77</td>\n",
       "      <td>5.0</td>\n",
       "      <td>0</td>\n",
       "      <td>5.0</td>\n",
       "      <td>Really Short</td>\n",
       "      <td>0</td>\n",
       "      <td>0</td>\n",
       "      <td>1</td>\n",
       "      <td>0</td>\n",
       "    </tr>\n",
       "    <tr>\n",
       "      <td>3</td>\n",
       "      <td>9</td>\n",
       "      <td>2014-01-10</td>\n",
       "      <td>4.6</td>\n",
       "      <td>1.14</td>\n",
       "      <td>2014-06-29</td>\n",
       "      <td>20.0</td>\n",
       "      <td>80.0</td>\n",
       "      <td>2.36</td>\n",
       "      <td>4.9</td>\n",
       "      <td>1</td>\n",
       "      <td>4.5</td>\n",
       "      <td>Really Short</td>\n",
       "      <td>1</td>\n",
       "      <td>0</td>\n",
       "      <td>1</td>\n",
       "      <td>1</td>\n",
       "    </tr>\n",
       "    <tr>\n",
       "      <td>4</td>\n",
       "      <td>14</td>\n",
       "      <td>2014-01-27</td>\n",
       "      <td>4.4</td>\n",
       "      <td>1.19</td>\n",
       "      <td>2014-03-15</td>\n",
       "      <td>11.8</td>\n",
       "      <td>82.4</td>\n",
       "      <td>3.13</td>\n",
       "      <td>4.9</td>\n",
       "      <td>0</td>\n",
       "      <td>4.5</td>\n",
       "      <td>Short</td>\n",
       "      <td>0</td>\n",
       "      <td>1</td>\n",
       "      <td>0</td>\n",
       "      <td>0</td>\n",
       "    </tr>\n",
       "  </tbody>\n",
       "</table>\n",
       "</div>"
      ],
      "text/plain": [
       "   trips_in_first_30_days signup_date  avg_rating_of_driver  avg_surge  \\\n",
       "0                       4  2014-01-25                   4.7       1.10   \n",
       "1                       0  2014-01-29                   5.0       1.00   \n",
       "2                       3  2014-01-06                   4.3       1.00   \n",
       "3                       9  2014-01-10                   4.6       1.14   \n",
       "4                      14  2014-01-27                   4.4       1.19   \n",
       "\n",
       "  last_trip_date  surge_pct  weekday_pct  avg_dist  avg_rating_by_driver  \\\n",
       "0     2014-06-17       15.4         46.2      3.67                   5.0   \n",
       "1     2014-05-05        0.0         50.0      8.26                   5.0   \n",
       "2     2014-01-07        0.0        100.0      0.77                   5.0   \n",
       "3     2014-06-29       20.0         80.0      2.36                   4.9   \n",
       "4     2014-03-15       11.8         82.4      3.13                   4.9   \n",
       "\n",
       "   user_is_active  binned_rating_by_driver binned_avg_dist  \\\n",
       "0               1                      5.0           Short   \n",
       "1               0                      5.0            Long   \n",
       "2               0                      5.0    Really Short   \n",
       "3               1                      4.5    Really Short   \n",
       "4               0                      4.5           Short   \n",
       "\n",
       "   city_King's Landing  city_Winterfell  phone_iPhone  \\\n",
       "0                    1                0             1   \n",
       "1                    0                0             0   \n",
       "2                    0                0             1   \n",
       "3                    1                0             1   \n",
       "4                    0                1             0   \n",
       "\n",
       "   ultimate_black_user_True  \n",
       "0                         1  \n",
       "1                         0  \n",
       "2                         0  \n",
       "3                         1  \n",
       "4                         0  "
      ]
     },
     "execution_count": 49,
     "metadata": {},
     "output_type": "execute_result"
    }
   ],
   "source": [
    "## time to build predictive model\n",
    "\n",
    "df_features = pd.get_dummies(df, columns=['city','phone','ultimate_black_user'], drop_first=True)\n",
    "df_features.head()"
   ]
  },
  {
   "cell_type": "code",
   "execution_count": 54,
   "metadata": {},
   "outputs": [],
   "source": [
    "del df_features['last_trip_date']\n",
    "#del df_features['signup_date']\n",
    "#del df_features['binned_rating_by_driver']\n",
    "#del df_features['binned_avg_dist']"
   ]
  },
  {
   "cell_type": "code",
   "execution_count": 55,
   "metadata": {},
   "outputs": [
    {
     "data": {
      "text/html": [
       "<div>\n",
       "<style scoped>\n",
       "    .dataframe tbody tr th:only-of-type {\n",
       "        vertical-align: middle;\n",
       "    }\n",
       "\n",
       "    .dataframe tbody tr th {\n",
       "        vertical-align: top;\n",
       "    }\n",
       "\n",
       "    .dataframe thead th {\n",
       "        text-align: right;\n",
       "    }\n",
       "</style>\n",
       "<table border=\"1\" class=\"dataframe\">\n",
       "  <thead>\n",
       "    <tr style=\"text-align: right;\">\n",
       "      <th></th>\n",
       "      <th>trips_in_first_30_days</th>\n",
       "      <th>avg_rating_of_driver</th>\n",
       "      <th>avg_surge</th>\n",
       "      <th>surge_pct</th>\n",
       "      <th>weekday_pct</th>\n",
       "      <th>avg_dist</th>\n",
       "      <th>avg_rating_by_driver</th>\n",
       "      <th>user_is_active</th>\n",
       "      <th>city_King's Landing</th>\n",
       "      <th>city_Winterfell</th>\n",
       "      <th>phone_iPhone</th>\n",
       "      <th>ultimate_black_user_True</th>\n",
       "    </tr>\n",
       "  </thead>\n",
       "  <tbody>\n",
       "    <tr>\n",
       "      <td>0</td>\n",
       "      <td>4</td>\n",
       "      <td>4.7</td>\n",
       "      <td>1.10</td>\n",
       "      <td>15.4</td>\n",
       "      <td>46.2</td>\n",
       "      <td>3.67</td>\n",
       "      <td>5.0</td>\n",
       "      <td>1</td>\n",
       "      <td>1</td>\n",
       "      <td>0</td>\n",
       "      <td>1</td>\n",
       "      <td>1</td>\n",
       "    </tr>\n",
       "    <tr>\n",
       "      <td>1</td>\n",
       "      <td>0</td>\n",
       "      <td>5.0</td>\n",
       "      <td>1.00</td>\n",
       "      <td>0.0</td>\n",
       "      <td>50.0</td>\n",
       "      <td>8.26</td>\n",
       "      <td>5.0</td>\n",
       "      <td>0</td>\n",
       "      <td>0</td>\n",
       "      <td>0</td>\n",
       "      <td>0</td>\n",
       "      <td>0</td>\n",
       "    </tr>\n",
       "    <tr>\n",
       "      <td>2</td>\n",
       "      <td>3</td>\n",
       "      <td>4.3</td>\n",
       "      <td>1.00</td>\n",
       "      <td>0.0</td>\n",
       "      <td>100.0</td>\n",
       "      <td>0.77</td>\n",
       "      <td>5.0</td>\n",
       "      <td>0</td>\n",
       "      <td>0</td>\n",
       "      <td>0</td>\n",
       "      <td>1</td>\n",
       "      <td>0</td>\n",
       "    </tr>\n",
       "    <tr>\n",
       "      <td>3</td>\n",
       "      <td>9</td>\n",
       "      <td>4.6</td>\n",
       "      <td>1.14</td>\n",
       "      <td>20.0</td>\n",
       "      <td>80.0</td>\n",
       "      <td>2.36</td>\n",
       "      <td>4.9</td>\n",
       "      <td>1</td>\n",
       "      <td>1</td>\n",
       "      <td>0</td>\n",
       "      <td>1</td>\n",
       "      <td>1</td>\n",
       "    </tr>\n",
       "    <tr>\n",
       "      <td>4</td>\n",
       "      <td>14</td>\n",
       "      <td>4.4</td>\n",
       "      <td>1.19</td>\n",
       "      <td>11.8</td>\n",
       "      <td>82.4</td>\n",
       "      <td>3.13</td>\n",
       "      <td>4.9</td>\n",
       "      <td>0</td>\n",
       "      <td>0</td>\n",
       "      <td>1</td>\n",
       "      <td>0</td>\n",
       "      <td>0</td>\n",
       "    </tr>\n",
       "  </tbody>\n",
       "</table>\n",
       "</div>"
      ],
      "text/plain": [
       "   trips_in_first_30_days  avg_rating_of_driver  avg_surge  surge_pct  \\\n",
       "0                       4                   4.7       1.10       15.4   \n",
       "1                       0                   5.0       1.00        0.0   \n",
       "2                       3                   4.3       1.00        0.0   \n",
       "3                       9                   4.6       1.14       20.0   \n",
       "4                      14                   4.4       1.19       11.8   \n",
       "\n",
       "   weekday_pct  avg_dist  avg_rating_by_driver  user_is_active  \\\n",
       "0         46.2      3.67                   5.0               1   \n",
       "1         50.0      8.26                   5.0               0   \n",
       "2        100.0      0.77                   5.0               0   \n",
       "3         80.0      2.36                   4.9               1   \n",
       "4         82.4      3.13                   4.9               0   \n",
       "\n",
       "   city_King's Landing  city_Winterfell  phone_iPhone  \\\n",
       "0                    1                0             1   \n",
       "1                    0                0             0   \n",
       "2                    0                0             1   \n",
       "3                    1                0             1   \n",
       "4                    0                1             0   \n",
       "\n",
       "   ultimate_black_user_True  \n",
       "0                         1  \n",
       "1                         0  \n",
       "2                         0  \n",
       "3                         1  \n",
       "4                         0  "
      ]
     },
     "execution_count": 55,
     "metadata": {},
     "output_type": "execute_result"
    }
   ],
   "source": [
    "df_features.head()"
   ]
  },
  {
   "cell_type": "code",
   "execution_count": 56,
   "metadata": {},
   "outputs": [],
   "source": [
    "from sklearn.model_selection import train_test_split\n",
    "X = np.array(df_features.drop('user_is_active', axis=1))\n",
    "y = np.array(df_features.user_is_active)\n",
    "X_train, X_test, y_train, y_test = train_test_split(X, y, test_size=0.25, random_state=3)"
   ]
  },
  {
   "cell_type": "code",
   "execution_count": 57,
   "metadata": {},
   "outputs": [],
   "source": [
    "from sklearn.preprocessing import StandardScaler\n",
    "scaler = StandardScaler()\n",
    "scaler.fit(X_train)\n",
    "X_train = scaler.transform(X_train)\n",
    "X_test = scaler.transform(X_test)"
   ]
  },
  {
   "cell_type": "code",
   "execution_count": 65,
   "metadata": {},
   "outputs": [
    {
     "name": "stdout",
     "output_type": "stream",
     "text": [
      "\n",
      " Logistic Regression baseline classifier: \n",
      " \n",
      "\n",
      "\n",
      " Training Classification Report: \n",
      " \n",
      "               precision    recall  f1-score   support\n",
      "\n",
      "           0      0.735     0.848     0.788     23179\n",
      "           1      0.664     0.495     0.567     14024\n",
      "\n",
      "    accuracy                          0.715     37203\n",
      "   macro avg      0.700     0.672     0.678     37203\n",
      "weighted avg      0.708     0.715     0.705     37203\n",
      "\n",
      "\n",
      " Test Classification Report: \n",
      " \n",
      "               precision    recall  f1-score   support\n",
      "\n",
      "           0      0.741     0.859     0.795      7754\n",
      "           1      0.679     0.498     0.575      4647\n",
      "\n",
      "    accuracy                          0.724     12401\n",
      "   macro avg      0.710     0.678     0.685     12401\n",
      "weighted avg      0.717     0.724     0.713     12401\n",
      "\n"
     ]
    },
    {
     "name": "stderr",
     "output_type": "stream",
     "text": [
      "//miniconda3/lib/python3.7/site-packages/sklearn/linear_model/logistic.py:432: FutureWarning: Default solver will be changed to 'lbfgs' in 0.22. Specify a solver to silence this warning.\n",
      "  FutureWarning)\n"
     ]
    }
   ],
   "source": [
    "from sklearn.linear_model import LogisticRegression\n",
    "from sklearn.metrics import classification_report\n",
    "\n",
    "LR = LogisticRegression().fit(X_train, y_train)\n",
    "LR_train_pred = LR.predict(X_train)\n",
    "LR_test_pred = LR.predict(X_test)\n",
    "\n",
    "print('\\n Logistic Regression baseline classifier: \\n \\n')\n",
    "print('\\n Training Classification Report: \\n \\n', classification_report(y_train, LR_train_pred, digits = 3, labels=[0,1]))\n",
    "print('\\n Test Classification Report: \\n \\n', classification_report(y_test, LR_test_pred, digits = 3, labels=[0,1]))"
   ]
  },
  {
   "cell_type": "code",
   "execution_count": 63,
   "metadata": {},
   "outputs": [
    {
     "name": "stderr",
     "output_type": "stream",
     "text": [
      "//miniconda3/lib/python3.7/site-packages/sklearn/linear_model/logistic.py:432: FutureWarning: Default solver will be changed to 'lbfgs' in 0.22. Specify a solver to silence this warning.\n",
      "  FutureWarning)\n",
      "//miniconda3/lib/python3.7/site-packages/sklearn/linear_model/logistic.py:432: FutureWarning: Default solver will be changed to 'lbfgs' in 0.22. Specify a solver to silence this warning.\n",
      "  FutureWarning)\n",
      "//miniconda3/lib/python3.7/site-packages/sklearn/linear_model/logistic.py:432: FutureWarning: Default solver will be changed to 'lbfgs' in 0.22. Specify a solver to silence this warning.\n",
      "  FutureWarning)\n",
      "//miniconda3/lib/python3.7/site-packages/sklearn/linear_model/logistic.py:432: FutureWarning: Default solver will be changed to 'lbfgs' in 0.22. Specify a solver to silence this warning.\n",
      "  FutureWarning)\n",
      "//miniconda3/lib/python3.7/site-packages/sklearn/linear_model/logistic.py:432: FutureWarning: Default solver will be changed to 'lbfgs' in 0.22. Specify a solver to silence this warning.\n",
      "  FutureWarning)\n",
      "//miniconda3/lib/python3.7/site-packages/sklearn/linear_model/logistic.py:432: FutureWarning: Default solver will be changed to 'lbfgs' in 0.22. Specify a solver to silence this warning.\n",
      "  FutureWarning)\n"
     ]
    },
    {
     "name": "stdout",
     "output_type": "stream",
     "text": [
      "Optimal value of C: 0.1\n"
     ]
    }
   ],
   "source": [
    "# there isn't much overfitting present, but I'll run a grid search anyway\n",
    "from sklearn.model_selection import GridSearchCV\n",
    "\n",
    "param_grid = {'C':np.arange(0.1,1,10)}\n",
    "#instantiate and fit grid search object\n",
    "grid = GridSearchCV(LR, param_grid, cv=5)\n",
    "grid.fit(X_train, np.ravel(y_train))\n",
    "print('Optimal value of C:', grid.best_estimator_.C)"
   ]
  },
  {
   "cell_type": "code",
   "execution_count": 70,
   "metadata": {},
   "outputs": [
    {
     "name": "stdout",
     "output_type": "stream",
     "text": [
      "\n",
      " Tuned Logistic Regression classifier: \n",
      " \n",
      "\n",
      "\n",
      " Training Classification Report: \n",
      " \n",
      "               precision    recall  f1-score   support\n",
      "\n",
      "           0      0.735     0.848     0.788     23179\n",
      "           1      0.664     0.495     0.568     14024\n",
      "\n",
      "    accuracy                          0.715     37203\n",
      "   macro avg      0.700     0.672     0.678     37203\n",
      "weighted avg      0.709     0.715     0.705     37203\n",
      "\n",
      "\n",
      " Test Classification Report: \n",
      " \n",
      "               precision    recall  f1-score   support\n",
      "\n",
      "           0      0.741     0.859     0.795      7754\n",
      "           1      0.679     0.498     0.575      4647\n",
      "\n",
      "    accuracy                          0.724     12401\n",
      "   macro avg      0.710     0.679     0.685     12401\n",
      "weighted avg      0.717     0.724     0.713     12401\n",
      "\n"
     ]
    },
    {
     "name": "stderr",
     "output_type": "stream",
     "text": [
      "//miniconda3/lib/python3.7/site-packages/sklearn/linear_model/logistic.py:432: FutureWarning: Default solver will be changed to 'lbfgs' in 0.22. Specify a solver to silence this warning.\n",
      "  FutureWarning)\n"
     ]
    }
   ],
   "source": [
    "#find coefficients from Logistic Regression\n",
    "LR_tuned= LogisticRegression(C=grid.best_estimator_.C).fit(X_train, y_train)\n",
    "LR_tuned_train_pred = LR_tuned.predict(X_train)\n",
    "LR_tuned_test_pred = LR_tuned.predict(X_test)\n",
    "\n",
    "print('\\n Tuned Logistic Regression classifier: \\n \\n')\n",
    "print('\\n Training Classification Report: \\n \\n', classification_report(y_train, LR_tuned_train_pred, digits = 3, labels=[0,1]))\n",
    "print('\\n Test Classification Report: \\n \\n', classification_report(y_test, LR_tuned_test_pred, digits = 3, labels=[0,1]))"
   ]
  },
  {
   "cell_type": "code",
   "execution_count": 75,
   "metadata": {},
   "outputs": [],
   "source": [
    "# since there's still little overfitting present, \n",
    "# I'll bypass using L1 or L2 regularization for this LR model"
   ]
  },
  {
   "cell_type": "code",
   "execution_count": 72,
   "metadata": {},
   "outputs": [
    {
     "data": {
      "text/html": [
       "<div>\n",
       "<style scoped>\n",
       "    .dataframe tbody tr th:only-of-type {\n",
       "        vertical-align: middle;\n",
       "    }\n",
       "\n",
       "    .dataframe tbody tr th {\n",
       "        vertical-align: top;\n",
       "    }\n",
       "\n",
       "    .dataframe thead th {\n",
       "        text-align: right;\n",
       "    }\n",
       "</style>\n",
       "<table border=\"1\" class=\"dataframe\">\n",
       "  <thead>\n",
       "    <tr style=\"text-align: right;\">\n",
       "      <th></th>\n",
       "      <th>feature</th>\n",
       "      <th>coefficient</th>\n",
       "    </tr>\n",
       "  </thead>\n",
       "  <tbody>\n",
       "    <tr>\n",
       "      <td>7</td>\n",
       "      <td>city_King's Landing</td>\n",
       "      <td>0.688099</td>\n",
       "    </tr>\n",
       "    <tr>\n",
       "      <td>9</td>\n",
       "      <td>phone_iPhone</td>\n",
       "      <td>0.494017</td>\n",
       "    </tr>\n",
       "    <tr>\n",
       "      <td>0</td>\n",
       "      <td>trips_in_first_30_days</td>\n",
       "      <td>0.442001</td>\n",
       "    </tr>\n",
       "    <tr>\n",
       "      <td>10</td>\n",
       "      <td>ultimate_black_user_True</td>\n",
       "      <td>0.423987</td>\n",
       "    </tr>\n",
       "    <tr>\n",
       "      <td>8</td>\n",
       "      <td>city_Winterfell</td>\n",
       "      <td>0.255085</td>\n",
       "    </tr>\n",
       "    <tr>\n",
       "      <td>3</td>\n",
       "      <td>surge_pct</td>\n",
       "      <td>0.079523</td>\n",
       "    </tr>\n",
       "    <tr>\n",
       "      <td>4</td>\n",
       "      <td>weekday_pct</td>\n",
       "      <td>-0.005500</td>\n",
       "    </tr>\n",
       "    <tr>\n",
       "      <td>1</td>\n",
       "      <td>avg_rating_of_driver</td>\n",
       "      <td>-0.025597</td>\n",
       "    </tr>\n",
       "    <tr>\n",
       "      <td>2</td>\n",
       "      <td>avg_surge</td>\n",
       "      <td>-0.042348</td>\n",
       "    </tr>\n",
       "    <tr>\n",
       "      <td>6</td>\n",
       "      <td>avg_rating_by_driver</td>\n",
       "      <td>-0.072844</td>\n",
       "    </tr>\n",
       "    <tr>\n",
       "      <td>5</td>\n",
       "      <td>avg_dist</td>\n",
       "      <td>-0.206836</td>\n",
       "    </tr>\n",
       "  </tbody>\n",
       "</table>\n",
       "</div>"
      ],
      "text/plain": [
       "                     feature  coefficient\n",
       "7        city_King's Landing     0.688099\n",
       "9               phone_iPhone     0.494017\n",
       "0     trips_in_first_30_days     0.442001\n",
       "10  ultimate_black_user_True     0.423987\n",
       "8            city_Winterfell     0.255085\n",
       "3                  surge_pct     0.079523\n",
       "4                weekday_pct    -0.005500\n",
       "1       avg_rating_of_driver    -0.025597\n",
       "2                  avg_surge    -0.042348\n",
       "6       avg_rating_by_driver    -0.072844\n",
       "5                   avg_dist    -0.206836"
      ]
     },
     "execution_count": 72,
     "metadata": {},
     "output_type": "execute_result"
    }
   ],
   "source": [
    "del df_features['user_is_active']\n",
    "df_coef = pd.DataFrame(zip(list(df_features.columns), LR_tuned.coef_[0]),index=range(df_features.columns.shape[0]), columns=['feature','coefficient'])\n",
    "df_coef.sort_values(by='coefficient', ascending=False)"
   ]
  },
  {
   "cell_type": "markdown",
   "metadata": {},
   "source": [
    "## Route 2: Feature Extraction with PCA"
   ]
  },
  {
   "cell_type": "code",
   "execution_count": 85,
   "metadata": {},
   "outputs": [
    {
     "data": {
      "text/plain": [
       "0.7836634907709183"
      ]
     },
     "execution_count": 85,
     "metadata": {},
     "output_type": "execute_result"
    }
   ],
   "source": [
    "# now well try go a different route. Instead of building a classifier, we'll\n",
    "# experiment with a feature extraction technique called Principal Component Analysis\n",
    "# This will convert our df into a set of linearly uncorrelated variables\n",
    "# so we can get a better feel for the most influential features\n",
    "\n",
    "from sklearn.decomposition import PCA\n",
    "\n",
    "pca = PCA()\n",
    "features = scaler.fit_transform(df_features)\n",
    "components = pca.fit(features)\n",
    "np.sum(pca.explained_variance_ratio_[0:7])"
   ]
  },
  {
   "cell_type": "code",
   "execution_count": 86,
   "metadata": {},
   "outputs": [
    {
     "data": {
      "text/html": [
       "<div>\n",
       "<style scoped>\n",
       "    .dataframe tbody tr th:only-of-type {\n",
       "        vertical-align: middle;\n",
       "    }\n",
       "\n",
       "    .dataframe tbody tr th {\n",
       "        vertical-align: top;\n",
       "    }\n",
       "\n",
       "    .dataframe thead th {\n",
       "        text-align: right;\n",
       "    }\n",
       "</style>\n",
       "<table border=\"1\" class=\"dataframe\">\n",
       "  <thead>\n",
       "    <tr style=\"text-align: right;\">\n",
       "      <th></th>\n",
       "      <th>trips_in_first_30_days</th>\n",
       "      <th>avg_rating_of_driver</th>\n",
       "      <th>avg_surge</th>\n",
       "      <th>surge_pct</th>\n",
       "      <th>weekday_pct</th>\n",
       "      <th>avg_dist</th>\n",
       "      <th>avg_rating_by_driver</th>\n",
       "      <th>city_King's Landing</th>\n",
       "      <th>city_Winterfell</th>\n",
       "      <th>phone_iPhone</th>\n",
       "      <th>ultimate_black_user_True</th>\n",
       "    </tr>\n",
       "  </thead>\n",
       "  <tbody>\n",
       "    <tr>\n",
       "      <td>PC-1</td>\n",
       "      <td>NaN</td>\n",
       "      <td>NaN</td>\n",
       "      <td>0.661884</td>\n",
       "      <td>0.674088</td>\n",
       "      <td>0.215247</td>\n",
       "      <td>0.171870</td>\n",
       "      <td>NaN</td>\n",
       "      <td>NaN</td>\n",
       "      <td>NaN</td>\n",
       "      <td>NaN</td>\n",
       "      <td>0.145448</td>\n",
       "    </tr>\n",
       "    <tr>\n",
       "      <td>PC-2</td>\n",
       "      <td>NaN</td>\n",
       "      <td>0.252258</td>\n",
       "      <td>NaN</td>\n",
       "      <td>NaN</td>\n",
       "      <td>0.100442</td>\n",
       "      <td>NaN</td>\n",
       "      <td>0.266868</td>\n",
       "      <td>0.640799</td>\n",
       "      <td>0.639907</td>\n",
       "      <td>NaN</td>\n",
       "      <td>0.139299</td>\n",
       "    </tr>\n",
       "    <tr>\n",
       "      <td>PC-3</td>\n",
       "      <td>0.606845</td>\n",
       "      <td>0.212618</td>\n",
       "      <td>NaN</td>\n",
       "      <td>NaN</td>\n",
       "      <td>NaN</td>\n",
       "      <td>0.448419</td>\n",
       "      <td>0.302824</td>\n",
       "      <td>NaN</td>\n",
       "      <td>NaN</td>\n",
       "      <td>0.376052</td>\n",
       "      <td>0.378161</td>\n",
       "    </tr>\n",
       "    <tr>\n",
       "      <td>PC-4</td>\n",
       "      <td>0.162179</td>\n",
       "      <td>NaN</td>\n",
       "      <td>0.225194</td>\n",
       "      <td>0.169022</td>\n",
       "      <td>0.460033</td>\n",
       "      <td>0.497133</td>\n",
       "      <td>0.329603</td>\n",
       "      <td>0.171463</td>\n",
       "      <td>0.219766</td>\n",
       "      <td>0.295086</td>\n",
       "      <td>0.399799</td>\n",
       "    </tr>\n",
       "    <tr>\n",
       "      <td>PC-5</td>\n",
       "      <td>0.419095</td>\n",
       "      <td>0.666080</td>\n",
       "      <td>NaN</td>\n",
       "      <td>NaN</td>\n",
       "      <td>NaN</td>\n",
       "      <td>0.301831</td>\n",
       "      <td>0.332594</td>\n",
       "      <td>0.169260</td>\n",
       "      <td>0.144070</td>\n",
       "      <td>0.357166</td>\n",
       "      <td>NaN</td>\n",
       "    </tr>\n",
       "    <tr>\n",
       "      <td>PC-6</td>\n",
       "      <td>0.230173</td>\n",
       "      <td>0.170458</td>\n",
       "      <td>NaN</td>\n",
       "      <td>NaN</td>\n",
       "      <td>0.715836</td>\n",
       "      <td>NaN</td>\n",
       "      <td>0.274820</td>\n",
       "      <td>0.120024</td>\n",
       "      <td>NaN</td>\n",
       "      <td>0.462035</td>\n",
       "      <td>0.284733</td>\n",
       "    </tr>\n",
       "    <tr>\n",
       "      <td>PC-7</td>\n",
       "      <td>NaN</td>\n",
       "      <td>0.289433</td>\n",
       "      <td>NaN</td>\n",
       "      <td>NaN</td>\n",
       "      <td>0.261960</td>\n",
       "      <td>0.152065</td>\n",
       "      <td>NaN</td>\n",
       "      <td>NaN</td>\n",
       "      <td>NaN</td>\n",
       "      <td>0.646352</td>\n",
       "      <td>0.628288</td>\n",
       "    </tr>\n",
       "    <tr>\n",
       "      <td>PC-8</td>\n",
       "      <td>0.145470</td>\n",
       "      <td>0.574187</td>\n",
       "      <td>NaN</td>\n",
       "      <td>NaN</td>\n",
       "      <td>NaN</td>\n",
       "      <td>0.230626</td>\n",
       "      <td>0.731330</td>\n",
       "      <td>NaN</td>\n",
       "      <td>NaN</td>\n",
       "      <td>NaN</td>\n",
       "      <td>0.227377</td>\n",
       "    </tr>\n",
       "    <tr>\n",
       "      <td>PC-9</td>\n",
       "      <td>0.581209</td>\n",
       "      <td>NaN</td>\n",
       "      <td>NaN</td>\n",
       "      <td>NaN</td>\n",
       "      <td>0.385525</td>\n",
       "      <td>0.581154</td>\n",
       "      <td>NaN</td>\n",
       "      <td>0.195714</td>\n",
       "      <td>NaN</td>\n",
       "      <td>NaN</td>\n",
       "      <td>0.350696</td>\n",
       "    </tr>\n",
       "    <tr>\n",
       "      <td>PC-10</td>\n",
       "      <td>0.131631</td>\n",
       "      <td>NaN</td>\n",
       "      <td>NaN</td>\n",
       "      <td>NaN</td>\n",
       "      <td>NaN</td>\n",
       "      <td>0.111151</td>\n",
       "      <td>NaN</td>\n",
       "      <td>0.684551</td>\n",
       "      <td>0.701534</td>\n",
       "      <td>NaN</td>\n",
       "      <td>NaN</td>\n",
       "    </tr>\n",
       "    <tr>\n",
       "      <td>PC-11</td>\n",
       "      <td>NaN</td>\n",
       "      <td>NaN</td>\n",
       "      <td>0.700113</td>\n",
       "      <td>0.711749</td>\n",
       "      <td>NaN</td>\n",
       "      <td>NaN</td>\n",
       "      <td>NaN</td>\n",
       "      <td>NaN</td>\n",
       "      <td>NaN</td>\n",
       "      <td>NaN</td>\n",
       "      <td>NaN</td>\n",
       "    </tr>\n",
       "  </tbody>\n",
       "</table>\n",
       "</div>"
      ],
      "text/plain": [
       "       trips_in_first_30_days  avg_rating_of_driver  avg_surge  surge_pct  \\\n",
       "PC-1                      NaN                   NaN   0.661884   0.674088   \n",
       "PC-2                      NaN              0.252258        NaN        NaN   \n",
       "PC-3                 0.606845              0.212618        NaN        NaN   \n",
       "PC-4                 0.162179                   NaN   0.225194   0.169022   \n",
       "PC-5                 0.419095              0.666080        NaN        NaN   \n",
       "PC-6                 0.230173              0.170458        NaN        NaN   \n",
       "PC-7                      NaN              0.289433        NaN        NaN   \n",
       "PC-8                 0.145470              0.574187        NaN        NaN   \n",
       "PC-9                 0.581209                   NaN        NaN        NaN   \n",
       "PC-10                0.131631                   NaN        NaN        NaN   \n",
       "PC-11                     NaN                   NaN   0.700113   0.711749   \n",
       "\n",
       "       weekday_pct  avg_dist  avg_rating_by_driver  city_King's Landing  \\\n",
       "PC-1      0.215247  0.171870                   NaN                  NaN   \n",
       "PC-2      0.100442       NaN              0.266868             0.640799   \n",
       "PC-3           NaN  0.448419              0.302824                  NaN   \n",
       "PC-4      0.460033  0.497133              0.329603             0.171463   \n",
       "PC-5           NaN  0.301831              0.332594             0.169260   \n",
       "PC-6      0.715836       NaN              0.274820             0.120024   \n",
       "PC-7      0.261960  0.152065                   NaN                  NaN   \n",
       "PC-8           NaN  0.230626              0.731330                  NaN   \n",
       "PC-9      0.385525  0.581154                   NaN             0.195714   \n",
       "PC-10          NaN  0.111151                   NaN             0.684551   \n",
       "PC-11          NaN       NaN                   NaN                  NaN   \n",
       "\n",
       "       city_Winterfell  phone_iPhone  ultimate_black_user_True  \n",
       "PC-1               NaN           NaN                  0.145448  \n",
       "PC-2          0.639907           NaN                  0.139299  \n",
       "PC-3               NaN      0.376052                  0.378161  \n",
       "PC-4          0.219766      0.295086                  0.399799  \n",
       "PC-5          0.144070      0.357166                       NaN  \n",
       "PC-6               NaN      0.462035                  0.284733  \n",
       "PC-7               NaN      0.646352                  0.628288  \n",
       "PC-8               NaN           NaN                  0.227377  \n",
       "PC-9               NaN           NaN                  0.350696  \n",
       "PC-10         0.701534           NaN                       NaN  \n",
       "PC-11              NaN           NaN                       NaN  "
      ]
     },
     "execution_count": 86,
     "metadata": {},
     "output_type": "execute_result"
    }
   ],
   "source": [
    "df_comp = pd.DataFrame(pca.components_,columns=df_features.columns,index=['PC-1','PC-2','PC-3','PC-4','PC-5','PC-6','PC-7','PC-8','PC-9','PC-10','PC-11'])\n",
    "#absolute values of correlation with principal components\n",
    "best_features = np.absolute(df_comp[np.absolute(df_comp) > 0.1])\n",
    "best_features.head(12)"
   ]
  },
  {
   "cell_type": "code",
   "execution_count": 87,
   "metadata": {},
   "outputs": [
    {
     "data": {
      "text/plain": [
       "phone_iPhone                2.136692\n",
       "ultimate_black_user_True    1.975728\n",
       "weekday_pct                 1.753518\n",
       "avg_rating_of_driver        1.590847\n",
       "avg_dist                    1.571318\n",
       "avg_rating_by_driver        1.506709\n",
       "trips_in_first_30_days      1.418292\n",
       "city_King's Landing         1.101547\n",
       "city_Winterfell             1.003743\n",
       "avg_surge                   0.887079\n",
       "surge_pct                   0.843110\n",
       "dtype: float64"
      ]
     },
     "execution_count": 87,
     "metadata": {},
     "output_type": "execute_result"
    }
   ],
   "source": [
    "#sum correlations to get a relative estimate of the feature importance\n",
    "best_features.head(7).sum(axis=0).sort_values(ascending=False)"
   ]
  },
  {
   "cell_type": "markdown",
   "metadata": {},
   "source": [
    "# Conclusion\n",
    "\n",
    "Based on the tuned logistic regression model, it appears the features most correlated with retention are living in King's Landing, having an iPhone, taking a trip within the past 30 days, and being an Ultimate Black user. It's possible other classifiers could reach different conclusions, though. Alternatives for such classifiers include a random forest model, a gradient boosting model, or a neural network, among others.\n",
    "\n",
    "However, PCA suggests city of origin isn't nearly as significant of a factor as being an iPhone user or an Ultimate Black user. Rather, it suggests that users who most frequently use Ultimate on weekdays is a top-3 variable, followed by driver and rider ratings as well as average distance. This makes sense since drivers who mostly need rides during the week likely are using Ultimate for work purposes and thus don't depend on having some weekend event to order another ride. Similarly, users who have good experiences are likely to order another ride, and vise versa.\n",
    "\n",
    "In terms of how Ultimate may leverage these results, I think the company shoulder explore how their product compares on the different phone manufacturers, as well as what motivates users to become an Ultimate Black user. After all, it's possible the experience on an Android phone, or some fundamental difference between Android and iPhone users, makes Android users less likely to use Ultimate. Perhaps the user experience on iPhones is significantly more desirable. "
   ]
  }
 ],
 "metadata": {
  "kernelspec": {
   "display_name": "Python 3",
   "language": "python",
   "name": "python3"
  },
  "language_info": {
   "codemirror_mode": {
    "name": "ipython",
    "version": 3
   },
   "file_extension": ".py",
   "mimetype": "text/x-python",
   "name": "python",
   "nbconvert_exporter": "python",
   "pygments_lexer": "ipython3",
   "version": "3.7.3"
  }
 },
 "nbformat": 4,
 "nbformat_minor": 2
}
